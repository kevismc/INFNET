{
 "cells": [
  {
   "cell_type": "code",
   "execution_count": 1,
   "metadata": {},
   "outputs": [],
   "source": [
    "import pandas as pd\n",
    "import numpy as np\n",
    "import matplotlib as plt"
   ]
  },
  {
   "cell_type": "code",
   "execution_count": 2,
   "metadata": {},
   "outputs": [],
   "source": [
    "url = 'https://raw.githubusercontent.com/CharlesPrado23/Bootcamp_TurmaNoite/main/Pandas/Life%20Expectancy%20Data.csv'"
   ]
  },
  {
   "cell_type": "code",
   "execution_count": 3,
   "metadata": {},
   "outputs": [],
   "source": [
    "df1 = pd.read_csv(url)"
   ]
  },
  {
   "cell_type": "code",
   "execution_count": 4,
   "metadata": {},
   "outputs": [
    {
     "data": {
      "text/html": [
       "<div>\n",
       "<style scoped>\n",
       "    .dataframe tbody tr th:only-of-type {\n",
       "        vertical-align: middle;\n",
       "    }\n",
       "\n",
       "    .dataframe tbody tr th {\n",
       "        vertical-align: top;\n",
       "    }\n",
       "\n",
       "    .dataframe thead th {\n",
       "        text-align: right;\n",
       "    }\n",
       "</style>\n",
       "<table border=\"1\" class=\"dataframe\">\n",
       "  <thead>\n",
       "    <tr style=\"text-align: right;\">\n",
       "      <th></th>\n",
       "      <th>Country</th>\n",
       "      <th>Year</th>\n",
       "      <th>Status</th>\n",
       "      <th>Life expectancy</th>\n",
       "      <th>Adult Mortality</th>\n",
       "      <th>infant deaths</th>\n",
       "      <th>Alcohol</th>\n",
       "      <th>percentage expenditure</th>\n",
       "      <th>Hepatitis B</th>\n",
       "      <th>Measles</th>\n",
       "      <th>...</th>\n",
       "      <th>Polio</th>\n",
       "      <th>Total expenditure</th>\n",
       "      <th>Diphtheria</th>\n",
       "      <th>HIV/AIDS</th>\n",
       "      <th>GDP</th>\n",
       "      <th>Population</th>\n",
       "      <th>thinness  1-19 years</th>\n",
       "      <th>thinness 5-9 years</th>\n",
       "      <th>Income composition of resources</th>\n",
       "      <th>Schooling</th>\n",
       "    </tr>\n",
       "  </thead>\n",
       "  <tbody>\n",
       "    <tr>\n",
       "      <th>0</th>\n",
       "      <td>Afghanistan</td>\n",
       "      <td>2015</td>\n",
       "      <td>Developing</td>\n",
       "      <td>65.0</td>\n",
       "      <td>263.0</td>\n",
       "      <td>62</td>\n",
       "      <td>0.01</td>\n",
       "      <td>71.279624</td>\n",
       "      <td>65.0</td>\n",
       "      <td>1154</td>\n",
       "      <td>...</td>\n",
       "      <td>6.0</td>\n",
       "      <td>8.16</td>\n",
       "      <td>65.0</td>\n",
       "      <td>0.1</td>\n",
       "      <td>584.259210</td>\n",
       "      <td>33736494.0</td>\n",
       "      <td>17.2</td>\n",
       "      <td>17.3</td>\n",
       "      <td>0.479</td>\n",
       "      <td>10.1</td>\n",
       "    </tr>\n",
       "    <tr>\n",
       "      <th>1</th>\n",
       "      <td>Afghanistan</td>\n",
       "      <td>2014</td>\n",
       "      <td>Developing</td>\n",
       "      <td>59.9</td>\n",
       "      <td>271.0</td>\n",
       "      <td>64</td>\n",
       "      <td>0.01</td>\n",
       "      <td>73.523582</td>\n",
       "      <td>62.0</td>\n",
       "      <td>492</td>\n",
       "      <td>...</td>\n",
       "      <td>58.0</td>\n",
       "      <td>8.18</td>\n",
       "      <td>62.0</td>\n",
       "      <td>0.1</td>\n",
       "      <td>612.696514</td>\n",
       "      <td>327582.0</td>\n",
       "      <td>17.5</td>\n",
       "      <td>17.5</td>\n",
       "      <td>0.476</td>\n",
       "      <td>10.0</td>\n",
       "    </tr>\n",
       "    <tr>\n",
       "      <th>2</th>\n",
       "      <td>Afghanistan</td>\n",
       "      <td>2013</td>\n",
       "      <td>Developing</td>\n",
       "      <td>59.9</td>\n",
       "      <td>268.0</td>\n",
       "      <td>66</td>\n",
       "      <td>0.01</td>\n",
       "      <td>73.219243</td>\n",
       "      <td>64.0</td>\n",
       "      <td>430</td>\n",
       "      <td>...</td>\n",
       "      <td>62.0</td>\n",
       "      <td>8.13</td>\n",
       "      <td>64.0</td>\n",
       "      <td>0.1</td>\n",
       "      <td>631.744976</td>\n",
       "      <td>31731688.0</td>\n",
       "      <td>17.7</td>\n",
       "      <td>17.7</td>\n",
       "      <td>0.470</td>\n",
       "      <td>9.9</td>\n",
       "    </tr>\n",
       "    <tr>\n",
       "      <th>3</th>\n",
       "      <td>Afghanistan</td>\n",
       "      <td>2012</td>\n",
       "      <td>Developing</td>\n",
       "      <td>59.5</td>\n",
       "      <td>272.0</td>\n",
       "      <td>69</td>\n",
       "      <td>0.01</td>\n",
       "      <td>78.184215</td>\n",
       "      <td>67.0</td>\n",
       "      <td>2787</td>\n",
       "      <td>...</td>\n",
       "      <td>67.0</td>\n",
       "      <td>8.52</td>\n",
       "      <td>67.0</td>\n",
       "      <td>0.1</td>\n",
       "      <td>669.959000</td>\n",
       "      <td>3696958.0</td>\n",
       "      <td>17.9</td>\n",
       "      <td>18.0</td>\n",
       "      <td>0.463</td>\n",
       "      <td>9.8</td>\n",
       "    </tr>\n",
       "    <tr>\n",
       "      <th>4</th>\n",
       "      <td>Afghanistan</td>\n",
       "      <td>2011</td>\n",
       "      <td>Developing</td>\n",
       "      <td>59.2</td>\n",
       "      <td>275.0</td>\n",
       "      <td>71</td>\n",
       "      <td>0.01</td>\n",
       "      <td>7.097109</td>\n",
       "      <td>68.0</td>\n",
       "      <td>3013</td>\n",
       "      <td>...</td>\n",
       "      <td>68.0</td>\n",
       "      <td>7.87</td>\n",
       "      <td>68.0</td>\n",
       "      <td>0.1</td>\n",
       "      <td>63.537231</td>\n",
       "      <td>2978599.0</td>\n",
       "      <td>18.2</td>\n",
       "      <td>18.2</td>\n",
       "      <td>0.454</td>\n",
       "      <td>9.5</td>\n",
       "    </tr>\n",
       "  </tbody>\n",
       "</table>\n",
       "<p>5 rows × 22 columns</p>\n",
       "</div>"
      ],
      "text/plain": [
       "       Country  Year      Status  Life expectancy   Adult Mortality  \\\n",
       "0  Afghanistan  2015  Developing              65.0            263.0   \n",
       "1  Afghanistan  2014  Developing              59.9            271.0   \n",
       "2  Afghanistan  2013  Developing              59.9            268.0   \n",
       "3  Afghanistan  2012  Developing              59.5            272.0   \n",
       "4  Afghanistan  2011  Developing              59.2            275.0   \n",
       "\n",
       "   infant deaths  Alcohol  percentage expenditure  Hepatitis B  Measles   ...  \\\n",
       "0             62     0.01               71.279624         65.0      1154  ...   \n",
       "1             64     0.01               73.523582         62.0       492  ...   \n",
       "2             66     0.01               73.219243         64.0       430  ...   \n",
       "3             69     0.01               78.184215         67.0      2787  ...   \n",
       "4             71     0.01                7.097109         68.0      3013  ...   \n",
       "\n",
       "   Polio  Total expenditure  Diphtheria    HIV/AIDS         GDP  Population  \\\n",
       "0    6.0               8.16         65.0        0.1  584.259210  33736494.0   \n",
       "1   58.0               8.18         62.0        0.1  612.696514    327582.0   \n",
       "2   62.0               8.13         64.0        0.1  631.744976  31731688.0   \n",
       "3   67.0               8.52         67.0        0.1  669.959000   3696958.0   \n",
       "4   68.0               7.87         68.0        0.1   63.537231   2978599.0   \n",
       "\n",
       "    thinness  1-19 years   thinness 5-9 years  \\\n",
       "0                   17.2                 17.3   \n",
       "1                   17.5                 17.5   \n",
       "2                   17.7                 17.7   \n",
       "3                   17.9                 18.0   \n",
       "4                   18.2                 18.2   \n",
       "\n",
       "   Income composition of resources  Schooling  \n",
       "0                            0.479       10.1  \n",
       "1                            0.476       10.0  \n",
       "2                            0.470        9.9  \n",
       "3                            0.463        9.8  \n",
       "4                            0.454        9.5  \n",
       "\n",
       "[5 rows x 22 columns]"
      ]
     },
     "execution_count": 4,
     "metadata": {},
     "output_type": "execute_result"
    }
   ],
   "source": [
    "df1.head()"
   ]
  },
  {
   "cell_type": "code",
   "execution_count": 5,
   "metadata": {},
   "outputs": [
    {
     "data": {
      "text/plain": [
       "(2938, 22)"
      ]
     },
     "execution_count": 5,
     "metadata": {},
     "output_type": "execute_result"
    }
   ],
   "source": [
    "df1.shape"
   ]
  },
  {
   "cell_type": "code",
   "execution_count": 6,
   "metadata": {},
   "outputs": [
    {
     "name": "stdout",
     "output_type": "stream",
     "text": [
      "<class 'pandas.core.frame.DataFrame'>\n",
      "RangeIndex: 2938 entries, 0 to 2937\n",
      "Data columns (total 22 columns):\n",
      " #   Column                           Non-Null Count  Dtype  \n",
      "---  ------                           --------------  -----  \n",
      " 0   Country                          2938 non-null   object \n",
      " 1   Year                             2938 non-null   int64  \n",
      " 2   Status                           2938 non-null   object \n",
      " 3   Life expectancy                  2928 non-null   float64\n",
      " 4   Adult Mortality                  2928 non-null   float64\n",
      " 5   infant deaths                    2938 non-null   int64  \n",
      " 6   Alcohol                          2744 non-null   float64\n",
      " 7   percentage expenditure           2938 non-null   float64\n",
      " 8   Hepatitis B                      2385 non-null   float64\n",
      " 9   Measles                          2938 non-null   int64  \n",
      " 10   BMI                             2904 non-null   float64\n",
      " 11  under-five deaths                2938 non-null   int64  \n",
      " 12  Polio                            2919 non-null   float64\n",
      " 13  Total expenditure                2712 non-null   float64\n",
      " 14  Diphtheria                       2919 non-null   float64\n",
      " 15   HIV/AIDS                        2938 non-null   float64\n",
      " 16  GDP                              2490 non-null   float64\n",
      " 17  Population                       2286 non-null   float64\n",
      " 18   thinness  1-19 years            2904 non-null   float64\n",
      " 19   thinness 5-9 years              2904 non-null   float64\n",
      " 20  Income composition of resources  2771 non-null   float64\n",
      " 21  Schooling                        2775 non-null   float64\n",
      "dtypes: float64(16), int64(4), object(2)\n",
      "memory usage: 505.1+ KB\n"
     ]
    }
   ],
   "source": [
    "df1.info()"
   ]
  },
  {
   "cell_type": "code",
   "execution_count": 7,
   "metadata": {},
   "outputs": [
    {
     "data": {
      "text/plain": [
       "array(['Developing', 'Developed'], dtype=object)"
      ]
     },
     "execution_count": 7,
     "metadata": {},
     "output_type": "execute_result"
    }
   ],
   "source": [
    "df1['Status'].unique()"
   ]
  },
  {
   "cell_type": "code",
   "execution_count": 8,
   "metadata": {},
   "outputs": [
    {
     "data": {
      "text/plain": [
       "<Axes: >"
      ]
     },
     "execution_count": 8,
     "metadata": {},
     "output_type": "execute_result"
    },
    {
     "data": {
      "image/png": "[encoded data removed]",
      "text/plain": [
       "<Figure size 640x480 with 1 Axes>"
      ]
     },
     "metadata": {},
     "output_type": "display_data"
    }
   ],
   "source": [
    "df1['Life expectancy '].plot()"
   ]
  },
  {
   "cell_type": "code",
   "execution_count": 9,
   "metadata": {},
   "outputs": [
    {
     "data": {
      "text/plain": [
       "<Axes: xlabel='Year', ylabel='Life expectancy '>"
      ]
     },
     "execution_count": 9,
     "metadata": {},
     "output_type": "execute_result"
    },
    {
     "data": {
      "image/png": "[encoded data removed]",
      "text/plain": [
       "<Figure size 640x480 with 1 Axes>"
      ]
     },
     "metadata": {},
     "output_type": "display_data"
    }
   ],
   "source": [
    "df1.plot(x='Year',y='Life expectancy ',kind= 'scatter')"
   ]
  },
  {
   "cell_type": "code",
   "execution_count": 10,
   "metadata": {},
   "outputs": [
    {
     "data": {
      "text/html": [
       "<div>\n",
       "<style scoped>\n",
       "    .dataframe tbody tr th:only-of-type {\n",
       "        vertical-align: middle;\n",
       "    }\n",
       "\n",
       "    .dataframe tbody tr th {\n",
       "        vertical-align: top;\n",
       "    }\n",
       "\n",
       "    .dataframe thead th {\n",
       "        text-align: right;\n",
       "    }\n",
       "</style>\n",
       "<table border=\"1\" class=\"dataframe\">\n",
       "  <thead>\n",
       "    <tr style=\"text-align: right;\">\n",
       "      <th></th>\n",
       "      <th>Country</th>\n",
       "      <th>Year</th>\n",
       "      <th>Status</th>\n",
       "      <th>Life expectancy</th>\n",
       "      <th>Adult Mortality</th>\n",
       "      <th>infant deaths</th>\n",
       "      <th>Alcohol</th>\n",
       "      <th>percentage expenditure</th>\n",
       "      <th>Hepatitis B</th>\n",
       "      <th>Measles</th>\n",
       "      <th>...</th>\n",
       "      <th>Polio</th>\n",
       "      <th>Total expenditure</th>\n",
       "      <th>Diphtheria</th>\n",
       "      <th>HIV/AIDS</th>\n",
       "      <th>GDP</th>\n",
       "      <th>Population</th>\n",
       "      <th>thinness  1-19 years</th>\n",
       "      <th>thinness 5-9 years</th>\n",
       "      <th>Income composition of resources</th>\n",
       "      <th>Schooling</th>\n",
       "    </tr>\n",
       "  </thead>\n",
       "  <tbody>\n",
       "    <tr>\n",
       "      <th>0</th>\n",
       "      <td>Afghanistan</td>\n",
       "      <td>2015</td>\n",
       "      <td>Developing</td>\n",
       "      <td>65.0</td>\n",
       "      <td>263.0</td>\n",
       "      <td>62</td>\n",
       "      <td>0.01</td>\n",
       "      <td>71.279624</td>\n",
       "      <td>65.0</td>\n",
       "      <td>1154</td>\n",
       "      <td>...</td>\n",
       "      <td>6.0</td>\n",
       "      <td>8.16</td>\n",
       "      <td>65.0</td>\n",
       "      <td>0.1</td>\n",
       "      <td>584.259210</td>\n",
       "      <td>33736494.0</td>\n",
       "      <td>17.2</td>\n",
       "      <td>17.3</td>\n",
       "      <td>0.479</td>\n",
       "      <td>10.1</td>\n",
       "    </tr>\n",
       "    <tr>\n",
       "      <th>1</th>\n",
       "      <td>Afghanistan</td>\n",
       "      <td>2014</td>\n",
       "      <td>Developing</td>\n",
       "      <td>59.9</td>\n",
       "      <td>271.0</td>\n",
       "      <td>64</td>\n",
       "      <td>0.01</td>\n",
       "      <td>73.523582</td>\n",
       "      <td>62.0</td>\n",
       "      <td>492</td>\n",
       "      <td>...</td>\n",
       "      <td>58.0</td>\n",
       "      <td>8.18</td>\n",
       "      <td>62.0</td>\n",
       "      <td>0.1</td>\n",
       "      <td>612.696514</td>\n",
       "      <td>327582.0</td>\n",
       "      <td>17.5</td>\n",
       "      <td>17.5</td>\n",
       "      <td>0.476</td>\n",
       "      <td>10.0</td>\n",
       "    </tr>\n",
       "    <tr>\n",
       "      <th>2</th>\n",
       "      <td>Afghanistan</td>\n",
       "      <td>2013</td>\n",
       "      <td>Developing</td>\n",
       "      <td>59.9</td>\n",
       "      <td>268.0</td>\n",
       "      <td>66</td>\n",
       "      <td>0.01</td>\n",
       "      <td>73.219243</td>\n",
       "      <td>64.0</td>\n",
       "      <td>430</td>\n",
       "      <td>...</td>\n",
       "      <td>62.0</td>\n",
       "      <td>8.13</td>\n",
       "      <td>64.0</td>\n",
       "      <td>0.1</td>\n",
       "      <td>631.744976</td>\n",
       "      <td>31731688.0</td>\n",
       "      <td>17.7</td>\n",
       "      <td>17.7</td>\n",
       "      <td>0.470</td>\n",
       "      <td>9.9</td>\n",
       "    </tr>\n",
       "    <tr>\n",
       "      <th>3</th>\n",
       "      <td>Afghanistan</td>\n",
       "      <td>2012</td>\n",
       "      <td>Developing</td>\n",
       "      <td>59.5</td>\n",
       "      <td>272.0</td>\n",
       "      <td>69</td>\n",
       "      <td>0.01</td>\n",
       "      <td>78.184215</td>\n",
       "      <td>67.0</td>\n",
       "      <td>2787</td>\n",
       "      <td>...</td>\n",
       "      <td>67.0</td>\n",
       "      <td>8.52</td>\n",
       "      <td>67.0</td>\n",
       "      <td>0.1</td>\n",
       "      <td>669.959000</td>\n",
       "      <td>3696958.0</td>\n",
       "      <td>17.9</td>\n",
       "      <td>18.0</td>\n",
       "      <td>0.463</td>\n",
       "      <td>9.8</td>\n",
       "    </tr>\n",
       "    <tr>\n",
       "      <th>4</th>\n",
       "      <td>Afghanistan</td>\n",
       "      <td>2011</td>\n",
       "      <td>Developing</td>\n",
       "      <td>59.2</td>\n",
       "      <td>275.0</td>\n",
       "      <td>71</td>\n",
       "      <td>0.01</td>\n",
       "      <td>7.097109</td>\n",
       "      <td>68.0</td>\n",
       "      <td>3013</td>\n",
       "      <td>...</td>\n",
       "      <td>68.0</td>\n",
       "      <td>7.87</td>\n",
       "      <td>68.0</td>\n",
       "      <td>0.1</td>\n",
       "      <td>63.537231</td>\n",
       "      <td>2978599.0</td>\n",
       "      <td>18.2</td>\n",
       "      <td>18.2</td>\n",
       "      <td>0.454</td>\n",
       "      <td>9.5</td>\n",
       "    </tr>\n",
       "    <tr>\n",
       "      <th>...</th>\n",
       "      <td>...</td>\n",
       "      <td>...</td>\n",
       "      <td>...</td>\n",
       "      <td>...</td>\n",
       "      <td>...</td>\n",
       "      <td>...</td>\n",
       "      <td>...</td>\n",
       "      <td>...</td>\n",
       "      <td>...</td>\n",
       "      <td>...</td>\n",
       "      <td>...</td>\n",
       "      <td>...</td>\n",
       "      <td>...</td>\n",
       "      <td>...</td>\n",
       "      <td>...</td>\n",
       "      <td>...</td>\n",
       "      <td>...</td>\n",
       "      <td>...</td>\n",
       "      <td>...</td>\n",
       "      <td>...</td>\n",
       "      <td>...</td>\n",
       "    </tr>\n",
       "    <tr>\n",
       "      <th>2933</th>\n",
       "      <td>Zimbabwe</td>\n",
       "      <td>2004</td>\n",
       "      <td>Developing</td>\n",
       "      <td>44.3</td>\n",
       "      <td>723.0</td>\n",
       "      <td>27</td>\n",
       "      <td>4.36</td>\n",
       "      <td>0.000000</td>\n",
       "      <td>68.0</td>\n",
       "      <td>31</td>\n",
       "      <td>...</td>\n",
       "      <td>67.0</td>\n",
       "      <td>7.13</td>\n",
       "      <td>65.0</td>\n",
       "      <td>33.6</td>\n",
       "      <td>454.366654</td>\n",
       "      <td>12777511.0</td>\n",
       "      <td>9.4</td>\n",
       "      <td>9.4</td>\n",
       "      <td>0.407</td>\n",
       "      <td>9.2</td>\n",
       "    </tr>\n",
       "    <tr>\n",
       "      <th>2934</th>\n",
       "      <td>Zimbabwe</td>\n",
       "      <td>2003</td>\n",
       "      <td>Developing</td>\n",
       "      <td>44.5</td>\n",
       "      <td>715.0</td>\n",
       "      <td>26</td>\n",
       "      <td>4.06</td>\n",
       "      <td>0.000000</td>\n",
       "      <td>7.0</td>\n",
       "      <td>998</td>\n",
       "      <td>...</td>\n",
       "      <td>7.0</td>\n",
       "      <td>6.52</td>\n",
       "      <td>68.0</td>\n",
       "      <td>36.7</td>\n",
       "      <td>453.351155</td>\n",
       "      <td>12633897.0</td>\n",
       "      <td>9.8</td>\n",
       "      <td>9.9</td>\n",
       "      <td>0.418</td>\n",
       "      <td>9.5</td>\n",
       "    </tr>\n",
       "    <tr>\n",
       "      <th>2935</th>\n",
       "      <td>Zimbabwe</td>\n",
       "      <td>2002</td>\n",
       "      <td>Developing</td>\n",
       "      <td>44.8</td>\n",
       "      <td>73.0</td>\n",
       "      <td>25</td>\n",
       "      <td>4.43</td>\n",
       "      <td>0.000000</td>\n",
       "      <td>73.0</td>\n",
       "      <td>304</td>\n",
       "      <td>...</td>\n",
       "      <td>73.0</td>\n",
       "      <td>6.53</td>\n",
       "      <td>71.0</td>\n",
       "      <td>39.8</td>\n",
       "      <td>57.348340</td>\n",
       "      <td>125525.0</td>\n",
       "      <td>1.2</td>\n",
       "      <td>1.3</td>\n",
       "      <td>0.427</td>\n",
       "      <td>10.0</td>\n",
       "    </tr>\n",
       "    <tr>\n",
       "      <th>2936</th>\n",
       "      <td>Zimbabwe</td>\n",
       "      <td>2001</td>\n",
       "      <td>Developing</td>\n",
       "      <td>45.3</td>\n",
       "      <td>686.0</td>\n",
       "      <td>25</td>\n",
       "      <td>1.72</td>\n",
       "      <td>0.000000</td>\n",
       "      <td>76.0</td>\n",
       "      <td>529</td>\n",
       "      <td>...</td>\n",
       "      <td>76.0</td>\n",
       "      <td>6.16</td>\n",
       "      <td>75.0</td>\n",
       "      <td>42.1</td>\n",
       "      <td>548.587312</td>\n",
       "      <td>12366165.0</td>\n",
       "      <td>1.6</td>\n",
       "      <td>1.7</td>\n",
       "      <td>0.427</td>\n",
       "      <td>9.8</td>\n",
       "    </tr>\n",
       "    <tr>\n",
       "      <th>2937</th>\n",
       "      <td>Zimbabwe</td>\n",
       "      <td>2000</td>\n",
       "      <td>Developing</td>\n",
       "      <td>46.0</td>\n",
       "      <td>665.0</td>\n",
       "      <td>24</td>\n",
       "      <td>1.68</td>\n",
       "      <td>0.000000</td>\n",
       "      <td>79.0</td>\n",
       "      <td>1483</td>\n",
       "      <td>...</td>\n",
       "      <td>78.0</td>\n",
       "      <td>7.10</td>\n",
       "      <td>78.0</td>\n",
       "      <td>43.5</td>\n",
       "      <td>547.358878</td>\n",
       "      <td>12222251.0</td>\n",
       "      <td>11.0</td>\n",
       "      <td>11.2</td>\n",
       "      <td>0.434</td>\n",
       "      <td>9.8</td>\n",
       "    </tr>\n",
       "  </tbody>\n",
       "</table>\n",
       "<p>2426 rows × 22 columns</p>\n",
       "</div>"
      ],
      "text/plain": [
       "          Country  Year      Status  Life expectancy   Adult Mortality  \\\n",
       "0     Afghanistan  2015  Developing              65.0            263.0   \n",
       "1     Afghanistan  2014  Developing              59.9            271.0   \n",
       "2     Afghanistan  2013  Developing              59.9            268.0   \n",
       "3     Afghanistan  2012  Developing              59.5            272.0   \n",
       "4     Afghanistan  2011  Developing              59.2            275.0   \n",
       "...           ...   ...         ...               ...              ...   \n",
       "2933     Zimbabwe  2004  Developing              44.3            723.0   \n",
       "2934     Zimbabwe  2003  Developing              44.5            715.0   \n",
       "2935     Zimbabwe  2002  Developing              44.8             73.0   \n",
       "2936     Zimbabwe  2001  Developing              45.3            686.0   \n",
       "2937     Zimbabwe  2000  Developing              46.0            665.0   \n",
       "\n",
       "      infant deaths  Alcohol  percentage expenditure  Hepatitis B  Measles   \\\n",
       "0                62     0.01               71.279624         65.0      1154   \n",
       "1                64     0.01               73.523582         62.0       492   \n",
       "2                66     0.01               73.219243         64.0       430   \n",
       "3                69     0.01               78.184215         67.0      2787   \n",
       "4                71     0.01                7.097109         68.0      3013   \n",
       "...             ...      ...                     ...          ...       ...   \n",
       "2933             27     4.36                0.000000         68.0        31   \n",
       "2934             26     4.06                0.000000          7.0       998   \n",
       "2935             25     4.43                0.000000         73.0       304   \n",
       "2936             25     1.72                0.000000         76.0       529   \n",
       "2937             24     1.68                0.000000         79.0      1483   \n",
       "\n",
       "      ...  Polio  Total expenditure  Diphtheria    HIV/AIDS         GDP  \\\n",
       "0     ...    6.0               8.16         65.0        0.1  584.259210   \n",
       "1     ...   58.0               8.18         62.0        0.1  612.696514   \n",
       "2     ...   62.0               8.13         64.0        0.1  631.744976   \n",
       "3     ...   67.0               8.52         67.0        0.1  669.959000   \n",
       "4     ...   68.0               7.87         68.0        0.1   63.537231   \n",
       "...   ...    ...                ...          ...        ...         ...   \n",
       "2933  ...   67.0               7.13         65.0       33.6  454.366654   \n",
       "2934  ...    7.0               6.52         68.0       36.7  453.351155   \n",
       "2935  ...   73.0               6.53         71.0       39.8   57.348340   \n",
       "2936  ...   76.0               6.16         75.0       42.1  548.587312   \n",
       "2937  ...   78.0               7.10         78.0       43.5  547.358878   \n",
       "\n",
       "      Population   thinness  1-19 years   thinness 5-9 years  \\\n",
       "0     33736494.0                   17.2                 17.3   \n",
       "1       327582.0                   17.5                 17.5   \n",
       "2     31731688.0                   17.7                 17.7   \n",
       "3      3696958.0                   17.9                 18.0   \n",
       "4      2978599.0                   18.2                 18.2   \n",
       "...          ...                    ...                  ...   \n",
       "2933  12777511.0                    9.4                  9.4   \n",
       "2934  12633897.0                    9.8                  9.9   \n",
       "2935    125525.0                    1.2                  1.3   \n",
       "2936  12366165.0                    1.6                  1.7   \n",
       "2937  12222251.0                   11.0                 11.2   \n",
       "\n",
       "      Income composition of resources  Schooling  \n",
       "0                               0.479       10.1  \n",
       "1                               0.476       10.0  \n",
       "2                               0.470        9.9  \n",
       "3                               0.463        9.8  \n",
       "4                               0.454        9.5  \n",
       "...                               ...        ...  \n",
       "2933                            0.407        9.2  \n",
       "2934                            0.418        9.5  \n",
       "2935                            0.427       10.0  \n",
       "2936                            0.427        9.8  \n",
       "2937                            0.434        9.8  \n",
       "\n",
       "[2426 rows x 22 columns]"
      ]
     },
     "execution_count": 10,
     "metadata": {},
     "output_type": "execute_result"
    }
   ],
   "source": [
    "df2 = df1[df1['Status'] =='Developing' ]\n",
    "df2"
   ]
  },
  {
   "cell_type": "code",
   "execution_count": 11,
   "metadata": {},
   "outputs": [
    {
     "data": {
      "text/html": [
       "<div>\n",
       "<style scoped>\n",
       "    .dataframe tbody tr th:only-of-type {\n",
       "        vertical-align: middle;\n",
       "    }\n",
       "\n",
       "    .dataframe tbody tr th {\n",
       "        vertical-align: top;\n",
       "    }\n",
       "\n",
       "    .dataframe thead th {\n",
       "        text-align: right;\n",
       "    }\n",
       "</style>\n",
       "<table border=\"1\" class=\"dataframe\">\n",
       "  <thead>\n",
       "    <tr style=\"text-align: right;\">\n",
       "      <th></th>\n",
       "      <th>Country</th>\n",
       "      <th>Year</th>\n",
       "      <th>Status</th>\n",
       "      <th>Life expectancy</th>\n",
       "      <th>Adult Mortality</th>\n",
       "      <th>infant deaths</th>\n",
       "      <th>Alcohol</th>\n",
       "      <th>percentage expenditure</th>\n",
       "      <th>Hepatitis B</th>\n",
       "      <th>Measles</th>\n",
       "      <th>...</th>\n",
       "      <th>Polio</th>\n",
       "      <th>Total expenditure</th>\n",
       "      <th>Diphtheria</th>\n",
       "      <th>HIV/AIDS</th>\n",
       "      <th>GDP</th>\n",
       "      <th>Population</th>\n",
       "      <th>thinness  1-19 years</th>\n",
       "      <th>thinness 5-9 years</th>\n",
       "      <th>Income composition of resources</th>\n",
       "      <th>Schooling</th>\n",
       "    </tr>\n",
       "  </thead>\n",
       "  <tbody>\n",
       "    <tr>\n",
       "      <th>112</th>\n",
       "      <td>Australia</td>\n",
       "      <td>2015</td>\n",
       "      <td>Developed</td>\n",
       "      <td>82.8</td>\n",
       "      <td>59.0</td>\n",
       "      <td>1</td>\n",
       "      <td>NaN</td>\n",
       "      <td>0.00000</td>\n",
       "      <td>93.0</td>\n",
       "      <td>74</td>\n",
       "      <td>...</td>\n",
       "      <td>93.0</td>\n",
       "      <td>NaN</td>\n",
       "      <td>93.0</td>\n",
       "      <td>0.1</td>\n",
       "      <td>56554.38760</td>\n",
       "      <td>23789338.0</td>\n",
       "      <td>0.6</td>\n",
       "      <td>0.6</td>\n",
       "      <td>0.937</td>\n",
       "      <td>20.4</td>\n",
       "    </tr>\n",
       "    <tr>\n",
       "      <th>113</th>\n",
       "      <td>Australia</td>\n",
       "      <td>2014</td>\n",
       "      <td>Developed</td>\n",
       "      <td>82.7</td>\n",
       "      <td>6.0</td>\n",
       "      <td>1</td>\n",
       "      <td>9.71</td>\n",
       "      <td>10769.36305</td>\n",
       "      <td>91.0</td>\n",
       "      <td>340</td>\n",
       "      <td>...</td>\n",
       "      <td>92.0</td>\n",
       "      <td>9.42</td>\n",
       "      <td>92.0</td>\n",
       "      <td>0.1</td>\n",
       "      <td>62214.69120</td>\n",
       "      <td>2346694.0</td>\n",
       "      <td>0.6</td>\n",
       "      <td>0.6</td>\n",
       "      <td>0.936</td>\n",
       "      <td>20.4</td>\n",
       "    </tr>\n",
       "    <tr>\n",
       "      <th>114</th>\n",
       "      <td>Australia</td>\n",
       "      <td>2013</td>\n",
       "      <td>Developed</td>\n",
       "      <td>82.5</td>\n",
       "      <td>61.0</td>\n",
       "      <td>1</td>\n",
       "      <td>9.87</td>\n",
       "      <td>11734.85381</td>\n",
       "      <td>91.0</td>\n",
       "      <td>158</td>\n",
       "      <td>...</td>\n",
       "      <td>91.0</td>\n",
       "      <td>9.36</td>\n",
       "      <td>91.0</td>\n",
       "      <td>0.1</td>\n",
       "      <td>67792.33860</td>\n",
       "      <td>23117353.0</td>\n",
       "      <td>0.6</td>\n",
       "      <td>0.6</td>\n",
       "      <td>0.933</td>\n",
       "      <td>20.3</td>\n",
       "    </tr>\n",
       "    <tr>\n",
       "      <th>115</th>\n",
       "      <td>Australia</td>\n",
       "      <td>2012</td>\n",
       "      <td>Developed</td>\n",
       "      <td>82.3</td>\n",
       "      <td>61.0</td>\n",
       "      <td>1</td>\n",
       "      <td>10.03</td>\n",
       "      <td>11714.99858</td>\n",
       "      <td>91.0</td>\n",
       "      <td>199</td>\n",
       "      <td>...</td>\n",
       "      <td>92.0</td>\n",
       "      <td>9.36</td>\n",
       "      <td>92.0</td>\n",
       "      <td>0.1</td>\n",
       "      <td>67677.63477</td>\n",
       "      <td>22728254.0</td>\n",
       "      <td>0.6</td>\n",
       "      <td>0.6</td>\n",
       "      <td>0.930</td>\n",
       "      <td>20.1</td>\n",
       "    </tr>\n",
       "    <tr>\n",
       "      <th>116</th>\n",
       "      <td>Australia</td>\n",
       "      <td>2011</td>\n",
       "      <td>Developed</td>\n",
       "      <td>82.0</td>\n",
       "      <td>63.0</td>\n",
       "      <td>1</td>\n",
       "      <td>10.30</td>\n",
       "      <td>10986.26527</td>\n",
       "      <td>92.0</td>\n",
       "      <td>190</td>\n",
       "      <td>...</td>\n",
       "      <td>92.0</td>\n",
       "      <td>9.20</td>\n",
       "      <td>92.0</td>\n",
       "      <td>0.1</td>\n",
       "      <td>62245.12900</td>\n",
       "      <td>223424.0</td>\n",
       "      <td>0.6</td>\n",
       "      <td>0.6</td>\n",
       "      <td>0.927</td>\n",
       "      <td>19.8</td>\n",
       "    </tr>\n",
       "    <tr>\n",
       "      <th>...</th>\n",
       "      <td>...</td>\n",
       "      <td>...</td>\n",
       "      <td>...</td>\n",
       "      <td>...</td>\n",
       "      <td>...</td>\n",
       "      <td>...</td>\n",
       "      <td>...</td>\n",
       "      <td>...</td>\n",
       "      <td>...</td>\n",
       "      <td>...</td>\n",
       "      <td>...</td>\n",
       "      <td>...</td>\n",
       "      <td>...</td>\n",
       "      <td>...</td>\n",
       "      <td>...</td>\n",
       "      <td>...</td>\n",
       "      <td>...</td>\n",
       "      <td>...</td>\n",
       "      <td>...</td>\n",
       "      <td>...</td>\n",
       "      <td>...</td>\n",
       "    </tr>\n",
       "    <tr>\n",
       "      <th>2805</th>\n",
       "      <td>United States of America</td>\n",
       "      <td>2004</td>\n",
       "      <td>Developed</td>\n",
       "      <td>77.5</td>\n",
       "      <td>111.0</td>\n",
       "      <td>28</td>\n",
       "      <td>8.48</td>\n",
       "      <td>0.00000</td>\n",
       "      <td>92.0</td>\n",
       "      <td>37</td>\n",
       "      <td>...</td>\n",
       "      <td>92.0</td>\n",
       "      <td>15.14</td>\n",
       "      <td>96.0</td>\n",
       "      <td>0.1</td>\n",
       "      <td>NaN</td>\n",
       "      <td>NaN</td>\n",
       "      <td>0.7</td>\n",
       "      <td>0.6</td>\n",
       "      <td>NaN</td>\n",
       "      <td>NaN</td>\n",
       "    </tr>\n",
       "    <tr>\n",
       "      <th>2806</th>\n",
       "      <td>United States of America</td>\n",
       "      <td>2003</td>\n",
       "      <td>Developed</td>\n",
       "      <td>77.2</td>\n",
       "      <td>114.0</td>\n",
       "      <td>28</td>\n",
       "      <td>8.40</td>\n",
       "      <td>0.00000</td>\n",
       "      <td>92.0</td>\n",
       "      <td>56</td>\n",
       "      <td>...</td>\n",
       "      <td>91.0</td>\n",
       "      <td>15.60</td>\n",
       "      <td>96.0</td>\n",
       "      <td>0.1</td>\n",
       "      <td>NaN</td>\n",
       "      <td>NaN</td>\n",
       "      <td>0.7</td>\n",
       "      <td>0.6</td>\n",
       "      <td>NaN</td>\n",
       "      <td>NaN</td>\n",
       "    </tr>\n",
       "    <tr>\n",
       "      <th>2807</th>\n",
       "      <td>United States of America</td>\n",
       "      <td>2002</td>\n",
       "      <td>Developed</td>\n",
       "      <td>77.0</td>\n",
       "      <td>115.0</td>\n",
       "      <td>28</td>\n",
       "      <td>8.33</td>\n",
       "      <td>0.00000</td>\n",
       "      <td>88.0</td>\n",
       "      <td>41</td>\n",
       "      <td>...</td>\n",
       "      <td>9.0</td>\n",
       "      <td>14.55</td>\n",
       "      <td>94.0</td>\n",
       "      <td>0.1</td>\n",
       "      <td>NaN</td>\n",
       "      <td>NaN</td>\n",
       "      <td>0.8</td>\n",
       "      <td>0.6</td>\n",
       "      <td>NaN</td>\n",
       "      <td>NaN</td>\n",
       "    </tr>\n",
       "    <tr>\n",
       "      <th>2808</th>\n",
       "      <td>United States of America</td>\n",
       "      <td>2001</td>\n",
       "      <td>Developed</td>\n",
       "      <td>76.9</td>\n",
       "      <td>115.0</td>\n",
       "      <td>28</td>\n",
       "      <td>8.25</td>\n",
       "      <td>0.00000</td>\n",
       "      <td>89.0</td>\n",
       "      <td>116</td>\n",
       "      <td>...</td>\n",
       "      <td>89.0</td>\n",
       "      <td>13.73</td>\n",
       "      <td>94.0</td>\n",
       "      <td>0.1</td>\n",
       "      <td>NaN</td>\n",
       "      <td>NaN</td>\n",
       "      <td>0.8</td>\n",
       "      <td>0.6</td>\n",
       "      <td>NaN</td>\n",
       "      <td>NaN</td>\n",
       "    </tr>\n",
       "    <tr>\n",
       "      <th>2809</th>\n",
       "      <td>United States of America</td>\n",
       "      <td>2000</td>\n",
       "      <td>Developed</td>\n",
       "      <td>76.8</td>\n",
       "      <td>114.0</td>\n",
       "      <td>28</td>\n",
       "      <td>8.21</td>\n",
       "      <td>0.00000</td>\n",
       "      <td>9.0</td>\n",
       "      <td>85</td>\n",
       "      <td>...</td>\n",
       "      <td>9.0</td>\n",
       "      <td>13.70</td>\n",
       "      <td>94.0</td>\n",
       "      <td>0.1</td>\n",
       "      <td>NaN</td>\n",
       "      <td>NaN</td>\n",
       "      <td>0.8</td>\n",
       "      <td>0.7</td>\n",
       "      <td>NaN</td>\n",
       "      <td>NaN</td>\n",
       "    </tr>\n",
       "  </tbody>\n",
       "</table>\n",
       "<p>512 rows × 22 columns</p>\n",
       "</div>"
      ],
      "text/plain": [
       "                       Country  Year     Status  Life expectancy   \\\n",
       "112                  Australia  2015  Developed              82.8   \n",
       "113                  Australia  2014  Developed              82.7   \n",
       "114                  Australia  2013  Developed              82.5   \n",
       "115                  Australia  2012  Developed              82.3   \n",
       "116                  Australia  2011  Developed              82.0   \n",
       "...                        ...   ...        ...               ...   \n",
       "2805  United States of America  2004  Developed              77.5   \n",
       "2806  United States of America  2003  Developed              77.2   \n",
       "2807  United States of America  2002  Developed              77.0   \n",
       "2808  United States of America  2001  Developed              76.9   \n",
       "2809  United States of America  2000  Developed              76.8   \n",
       "\n",
       "      Adult Mortality  infant deaths  Alcohol  percentage expenditure  \\\n",
       "112              59.0              1      NaN                 0.00000   \n",
       "113               6.0              1     9.71             10769.36305   \n",
       "114              61.0              1     9.87             11734.85381   \n",
       "115              61.0              1    10.03             11714.99858   \n",
       "116              63.0              1    10.30             10986.26527   \n",
       "...               ...            ...      ...                     ...   \n",
       "2805            111.0             28     8.48                 0.00000   \n",
       "2806            114.0             28     8.40                 0.00000   \n",
       "2807            115.0             28     8.33                 0.00000   \n",
       "2808            115.0             28     8.25                 0.00000   \n",
       "2809            114.0             28     8.21                 0.00000   \n",
       "\n",
       "      Hepatitis B  Measles   ...  Polio  Total expenditure  Diphtheria   \\\n",
       "112          93.0        74  ...   93.0                NaN         93.0   \n",
       "113          91.0       340  ...   92.0               9.42         92.0   \n",
       "114          91.0       158  ...   91.0               9.36         91.0   \n",
       "115          91.0       199  ...   92.0               9.36         92.0   \n",
       "116          92.0       190  ...   92.0               9.20         92.0   \n",
       "...           ...       ...  ...    ...                ...          ...   \n",
       "2805         92.0        37  ...   92.0              15.14         96.0   \n",
       "2806         92.0        56  ...   91.0              15.60         96.0   \n",
       "2807         88.0        41  ...    9.0              14.55         94.0   \n",
       "2808         89.0       116  ...   89.0              13.73         94.0   \n",
       "2809          9.0        85  ...    9.0              13.70         94.0   \n",
       "\n",
       "       HIV/AIDS          GDP  Population   thinness  1-19 years  \\\n",
       "112         0.1  56554.38760  23789338.0                    0.6   \n",
       "113         0.1  62214.69120   2346694.0                    0.6   \n",
       "114         0.1  67792.33860  23117353.0                    0.6   \n",
       "115         0.1  67677.63477  22728254.0                    0.6   \n",
       "116         0.1  62245.12900    223424.0                    0.6   \n",
       "...         ...          ...         ...                    ...   \n",
       "2805        0.1          NaN         NaN                    0.7   \n",
       "2806        0.1          NaN         NaN                    0.7   \n",
       "2807        0.1          NaN         NaN                    0.8   \n",
       "2808        0.1          NaN         NaN                    0.8   \n",
       "2809        0.1          NaN         NaN                    0.8   \n",
       "\n",
       "       thinness 5-9 years  Income composition of resources  Schooling  \n",
       "112                   0.6                            0.937       20.4  \n",
       "113                   0.6                            0.936       20.4  \n",
       "114                   0.6                            0.933       20.3  \n",
       "115                   0.6                            0.930       20.1  \n",
       "116                   0.6                            0.927       19.8  \n",
       "...                   ...                              ...        ...  \n",
       "2805                  0.6                              NaN        NaN  \n",
       "2806                  0.6                              NaN        NaN  \n",
       "2807                  0.6                              NaN        NaN  \n",
       "2808                  0.6                              NaN        NaN  \n",
       "2809                  0.7                              NaN        NaN  \n",
       "\n",
       "[512 rows x 22 columns]"
      ]
     },
     "execution_count": 11,
     "metadata": {},
     "output_type": "execute_result"
    }
   ],
   "source": [
    "df3 = df1[df1['Status'] =='Developed' ]\n",
    "df3"
   ]
  },
  {
   "cell_type": "code",
   "execution_count": 12,
   "metadata": {},
   "outputs": [
    {
     "data": {
      "text/plain": [
       "<Axes: xlabel='Year', ylabel='Life expectancy '>"
      ]
     },
     "execution_count": 12,
     "metadata": {},
     "output_type": "execute_result"
    },
    {
     "data": {
      "image/png": "[encoded data removed]",
      "text/plain": [
       "<Figure size 640x480 with 1 Axes>"
      ]
     },
     "metadata": {},
     "output_type": "display_data"
    }
   ],
   "source": [
    "df2.plot(x='Year',y='Life expectancy ',kind= 'scatter')"
   ]
  },
  {
   "cell_type": "code",
   "execution_count": 13,
   "metadata": {},
   "outputs": [
    {
     "data": {
      "text/plain": [
       "<Axes: xlabel='Year', ylabel='Life expectancy '>"
      ]
     },
     "execution_count": 13,
     "metadata": {},
     "output_type": "execute_result"
    },
    {
     "data": {
      "image/png": "[encoded data removed]",
      "text/plain": [
       "<Figure size 640x480 with 1 Axes>"
      ]
     },
     "metadata": {},
     "output_type": "display_data"
    }
   ],
   "source": [
    "df3.plot(x='Year',y='Life expectancy ',kind= 'scatter')"
   ]
  },
  {
   "cell_type": "code",
   "execution_count": 14,
   "metadata": {},
   "outputs": [
    {
     "data": {
      "text/plain": [
       "67.11146523178809"
      ]
     },
     "execution_count": 14,
     "metadata": {},
     "output_type": "execute_result"
    }
   ],
   "source": [
    "df2['Life expectancy '].mean()"
   ]
  },
  {
   "cell_type": "code",
   "execution_count": 15,
   "metadata": {},
   "outputs": [
    {
     "data": {
      "text/plain": [
       "79.1978515625"
      ]
     },
     "execution_count": 15,
     "metadata": {},
     "output_type": "execute_result"
    }
   ],
   "source": [
    "df3['Life expectancy '].mean()"
   ]
  },
  {
   "cell_type": "code",
   "execution_count": 16,
   "metadata": {},
   "outputs": [
    {
     "data": {
      "text/plain": [
       "<Axes: xlabel='Year'>"
      ]
     },
     "execution_count": 16,
     "metadata": {},
     "output_type": "execute_result"
    },
    {
     "data": {
      "image/png": "[encoded data removed]",
      "text/plain": [
       "<Figure size 640x480 with 1 Axes>"
      ]
     },
     "metadata": {},
     "output_type": "display_data"
    }
   ],
   "source": [
    "# em desenvolvimento\n",
    "\n",
    "mean_df2 = df2.groupby('Year')['Life expectancy '].mean()\n",
    "mean_df2.plot()"
   ]
  },
  {
   "cell_type": "code",
   "execution_count": 17,
   "metadata": {},
   "outputs": [
    {
     "data": {
      "text/plain": [
       "<Axes: xlabel='Year'>"
      ]
     },
     "execution_count": 17,
     "metadata": {},
     "output_type": "execute_result"
    },
    {
     "data": {
      "image/png": "[encoded data removed]",
      "text/plain": [
       "<Figure size 640x480 with 1 Axes>"
      ]
     },
     "metadata": {},
     "output_type": "display_data"
    }
   ],
   "source": [
    "# desenvolvido\n",
    "\n",
    "mean_df3 = df3.groupby('Year')['Life expectancy '].mean()\n",
    "mean_df3.plot()"
   ]
  },
  {
   "cell_type": "code",
   "execution_count": 18,
   "metadata": {},
   "outputs": [
    {
     "data": {
      "text/html": [
       "<div>\n",
       "<style scoped>\n",
       "    .dataframe tbody tr th:only-of-type {\n",
       "        vertical-align: middle;\n",
       "    }\n",
       "\n",
       "    .dataframe tbody tr th {\n",
       "        vertical-align: top;\n",
       "    }\n",
       "\n",
       "    .dataframe thead th {\n",
       "        text-align: right;\n",
       "    }\n",
       "</style>\n",
       "<table border=\"1\" class=\"dataframe\">\n",
       "  <thead>\n",
       "    <tr style=\"text-align: right;\">\n",
       "      <th></th>\n",
       "      <th>Developing</th>\n",
       "      <th>Developed</th>\n",
       "    </tr>\n",
       "    <tr>\n",
       "      <th>Year</th>\n",
       "      <th></th>\n",
       "      <th></th>\n",
       "    </tr>\n",
       "  </thead>\n",
       "  <tbody>\n",
       "    <tr>\n",
       "      <th>2000</th>\n",
       "      <td>64.619868</td>\n",
       "      <td>76.803125</td>\n",
       "    </tr>\n",
       "    <tr>\n",
       "      <th>2001</th>\n",
       "      <td>65.009934</td>\n",
       "      <td>77.128125</td>\n",
       "    </tr>\n",
       "    <tr>\n",
       "      <th>2002</th>\n",
       "      <td>65.190728</td>\n",
       "      <td>77.546875</td>\n",
       "    </tr>\n",
       "    <tr>\n",
       "      <th>2003</th>\n",
       "      <td>65.206623</td>\n",
       "      <td>77.940625</td>\n",
       "    </tr>\n",
       "    <tr>\n",
       "      <th>2004</th>\n",
       "      <td>65.370861</td>\n",
       "      <td>78.384375</td>\n",
       "    </tr>\n",
       "    <tr>\n",
       "      <th>2005</th>\n",
       "      <td>66.009272</td>\n",
       "      <td>78.590625</td>\n",
       "    </tr>\n",
       "    <tr>\n",
       "      <th>2006</th>\n",
       "      <td>66.450331</td>\n",
       "      <td>79.131250</td>\n",
       "    </tr>\n",
       "    <tr>\n",
       "      <th>2007</th>\n",
       "      <td>66.860927</td>\n",
       "      <td>79.300000</td>\n",
       "    </tr>\n",
       "    <tr>\n",
       "      <th>2008</th>\n",
       "      <td>67.413907</td>\n",
       "      <td>78.931250</td>\n",
       "    </tr>\n",
       "    <tr>\n",
       "      <th>2009</th>\n",
       "      <td>67.894040</td>\n",
       "      <td>79.584375</td>\n",
       "    </tr>\n",
       "    <tr>\n",
       "      <th>2010</th>\n",
       "      <td>67.908609</td>\n",
       "      <td>80.146875</td>\n",
       "    </tr>\n",
       "    <tr>\n",
       "      <th>2011</th>\n",
       "      <td>68.523841</td>\n",
       "      <td>80.706250</td>\n",
       "    </tr>\n",
       "    <tr>\n",
       "      <th>2012</th>\n",
       "      <td>68.898013</td>\n",
       "      <td>80.443750</td>\n",
       "    </tr>\n",
       "    <tr>\n",
       "      <th>2013</th>\n",
       "      <td>69.234437</td>\n",
       "      <td>80.681250</td>\n",
       "    </tr>\n",
       "    <tr>\n",
       "      <th>2014</th>\n",
       "      <td>69.501987</td>\n",
       "      <td>81.137500</td>\n",
       "    </tr>\n",
       "    <tr>\n",
       "      <th>2015</th>\n",
       "      <td>69.690066</td>\n",
       "      <td>80.709375</td>\n",
       "    </tr>\n",
       "  </tbody>\n",
       "</table>\n",
       "</div>"
      ],
      "text/plain": [
       "      Developing  Developed\n",
       "Year                       \n",
       "2000   64.619868  76.803125\n",
       "2001   65.009934  77.128125\n",
       "2002   65.190728  77.546875\n",
       "2003   65.206623  77.940625\n",
       "2004   65.370861  78.384375\n",
       "2005   66.009272  78.590625\n",
       "2006   66.450331  79.131250\n",
       "2007   66.860927  79.300000\n",
       "2008   67.413907  78.931250\n",
       "2009   67.894040  79.584375\n",
       "2010   67.908609  80.146875\n",
       "2011   68.523841  80.706250\n",
       "2012   68.898013  80.443750\n",
       "2013   69.234437  80.681250\n",
       "2014   69.501987  81.137500\n",
       "2015   69.690066  80.709375"
      ]
     },
     "execution_count": 18,
     "metadata": {},
     "output_type": "execute_result"
    }
   ],
   "source": [
    "df4 = pd.DataFrame()\n",
    "df4['Developing'] = mean_df2\n",
    "df4['Developed'] = mean_df3\n",
    "df4\n"
   ]
  },
  {
   "cell_type": "code",
   "execution_count": 19,
   "metadata": {},
   "outputs": [
    {
     "data": {
      "text/plain": [
       "<Axes: xlabel='Year'>"
      ]
     },
     "execution_count": 19,
     "metadata": {},
     "output_type": "execute_result"
    },
    {
     "data": {
      "image/png": "[encoded data removed]",
      "text/plain": [
       "<Figure size 640x480 with 1 Axes>"
      ]
     },
     "metadata": {},
     "output_type": "display_data"
    }
   ],
   "source": [
    "df4.plot()"
   ]
  },
  {
   "cell_type": "code",
   "execution_count": 20,
   "metadata": {},
   "outputs": [
    {
     "ename": "ModuleNotFoundError",
     "evalue": "No module named 'vectorbt'",
     "output_type": "error",
     "traceback": [
      "\u001b[1;31m---------------------------------------------------------------------------\u001b[0m",
      "\u001b[1;31mModuleNotFoundError\u001b[0m                       Traceback (most recent call last)",
      "Cell \u001b[1;32mIn[20], line 1\u001b[0m\n\u001b[1;32m----> 1\u001b[0m \u001b[39mimport\u001b[39;00m \u001b[39mvectorbt\u001b[39;00m \u001b[39mas\u001b[39;00m \u001b[39mvbt\u001b[39;00m\n",
      "\u001b[1;31mModuleNotFoundError\u001b[0m: No module named 'vectorbt'"
     ]
    }
   ],
   "source": [
    "import vectorbt as vbt"
   ]
  },
  {
   "cell_type": "code",
   "execution_count": null,
   "metadata": {},
   "outputs": [
    {
     "data": {
      "application/vnd.plotly.v1+json": {
       "config": {
        "plotlyServerURL": "https://plot.ly"
       },
       "data": [
        {
         "name": "Developing",
         "showlegend": true,
         "type": "scatter",
         "uid": "fcad6ff8-ea0b-44b9-bb27-26241cb76035",
         "x": [
          2000,
          2001,
          2002,
          2003,
          2004,
          2005,
          2006,
          2007,
          2008,
          2009,
          2010,
          2011,
          2012,
          2013,
          2014,
          2015
         ],
         "y": [
          64.61986754966888,
          65.00993377483444,
          65.19072847682119,
          65.2066225165563,
          65.37086092715232,
          66.00927152317881,
          66.45033112582782,
          66.86092715231788,
          67.41390728476821,
          67.89403973509934,
          67.90860927152319,
          68.52384105960265,
          68.89801324503311,
          69.23443708609271,
          69.50198675496688,
          69.69006622516557
         ]
        },
        {
         "name": "Developed",
         "showlegend": true,
         "type": "scatter",
         "uid": "8b743911-f081-4278-b48b-bdaf5b211e52",
         "x": [
          2000,
          2001,
          2002,
          2003,
          2004,
          2005,
          2006,
          2007,
          2008,
          2009,
          2010,
          2011,
          2012,
          2013,
          2014,
          2015
         ],
         "y": [
          76.803125,
          77.128125,
          77.546875,
          77.940625,
          78.384375,
          78.590625,
          79.13125,
          79.3,
          78.93125,
          79.584375,
          80.146875,
          80.70625,
          80.44375,
          80.68125,
          81.1375,
          80.709375
         ]
        }
       ],
       "layout": {
        "height": 600,
        "legend": {
         "orientation": "h",
         "traceorder": "normal",
         "x": 1,
         "xanchor": "right",
         "y": 1.02,
         "yanchor": "bottom"
        },
        "margin": {
         "b": 30,
         "l": 30,
         "r": 30,
         "t": 30
        },
        "template": {
         "data": {
          "bar": [
           {
            "error_x": {
             "color": "#2a3f5f"
            },
            "error_y": {
             "color": "#2a3f5f"
            },
            "marker": {
             "line": {
              "color": "#E5ECF6",
              "width": 0.5
             }
            },
            "type": "bar"
           }
          ],
          "barpolar": [
           {
            "marker": {
             "line": {
              "color": "#E5ECF6",
              "width": 0.5
             }
            },
            "type": "barpolar"
           }
          ],
          "carpet": [
           {
            "aaxis": {
             "endlinecolor": "#2a3f5f",
             "gridcolor": "white",
             "linecolor": "white",
             "minorgridcolor": "white",
             "startlinecolor": "#2a3f5f"
            },
            "baxis": {
             "endlinecolor": "#2a3f5f",
             "gridcolor": "white",
             "linecolor": "white",
             "minorgridcolor": "white",
             "startlinecolor": "#2a3f5f"
            },
            "type": "carpet"
           }
          ],
          "choropleth": [
           {
            "colorbar": {
             "outlinewidth": 0,
             "ticks": ""
            },
            "type": "choropleth"
           }
          ],
          "contour": [
           {
            "colorbar": {
             "outlinewidth": 0,
             "ticks": ""
            },
            "colorscale": [
             [
              0,
              "#0d0887"
             ],
             [
              0.1111111111111111,
              "#46039f"
             ],
             [
              0.2222222222222222,
              "#7201a8"
             ],
             [
              0.3333333333333333,
              "#9c179e"
             ],
             [
              0.4444444444444444,
              "#bd3786"
             ],
             [
              0.5555555555555556,
              "#d8576b"
             ],
             [
              0.6666666666666666,
              "#ed7953"
             ],
             [
              0.7777777777777778,
              "#fb9f3a"
             ],
             [
              0.8888888888888888,
              "#fdca26"
             ],
             [
              1,
              "#f0f921"
             ]
            ],
            "type": "contour"
           }
          ],
          "contourcarpet": [
           {
            "colorbar": {
             "outlinewidth": 0,
             "ticks": ""
            },
            "type": "contourcarpet"
           }
          ],
          "heatmap": [
           {
            "colorbar": {
             "outlinewidth": 0,
             "ticks": ""
            },
            "colorscale": [
             [
              0,
              "#0d0887"
             ],
             [
              0.1111111111111111,
              "#46039f"
             ],
             [
              0.2222222222222222,
              "#7201a8"
             ],
             [
              0.3333333333333333,
              "#9c179e"
             ],
             [
              0.4444444444444444,
              "#bd3786"
             ],
             [
              0.5555555555555556,
              "#d8576b"
             ],
             [
              0.6666666666666666,
              "#ed7953"
             ],
             [
              0.7777777777777778,
              "#fb9f3a"
             ],
             [
              0.8888888888888888,
              "#fdca26"
             ],
             [
              1,
              "#f0f921"
             ]
            ],
            "type": "heatmap"
           }
          ],
          "heatmapgl": [
           {
            "colorbar": {
             "outlinewidth": 0,
             "ticks": ""
            },
            "colorscale": [
             [
              0,
              "#0d0887"
             ],
             [
              0.1111111111111111,
              "#46039f"
             ],
             [
              0.2222222222222222,
              "#7201a8"
             ],
             [
              0.3333333333333333,
              "#9c179e"
             ],
             [
              0.4444444444444444,
              "#bd3786"
             ],
             [
              0.5555555555555556,
              "#d8576b"
             ],
             [
              0.6666666666666666,
              "#ed7953"
             ],
             [
              0.7777777777777778,
              "#fb9f3a"
             ],
             [
              0.8888888888888888,
              "#fdca26"
             ],
             [
              1,
              "#f0f921"
             ]
            ],
            "type": "heatmapgl"
           }
          ],
          "histogram": [
           {
            "marker": {
             "colorbar": {
              "outlinewidth": 0,
              "ticks": ""
             }
            },
            "type": "histogram"
           }
          ],
          "histogram2d": [
           {
            "colorbar": {
             "outlinewidth": 0,
             "ticks": ""
            },
            "colorscale": [
             [
              0,
              "#0d0887"
             ],
             [
              0.1111111111111111,
              "#46039f"
             ],
             [
              0.2222222222222222,
              "#7201a8"
             ],
             [
              0.3333333333333333,
              "#9c179e"
             ],
             [
              0.4444444444444444,
              "#bd3786"
             ],
             [
              0.5555555555555556,
              "#d8576b"
             ],
             [
              0.6666666666666666,
              "#ed7953"
             ],
             [
              0.7777777777777778,
              "#fb9f3a"
             ],
             [
              0.8888888888888888,
              "#fdca26"
             ],
             [
              1,
              "#f0f921"
             ]
            ],
            "type": "histogram2d"
           }
          ],
          "histogram2dcontour": [
           {
            "colorbar": {
             "outlinewidth": 0,
             "ticks": ""
            },
            "colorscale": [
             [
              0,
              "#0d0887"
             ],
             [
              0.1111111111111111,
              "#46039f"
             ],
             [
              0.2222222222222222,
              "#7201a8"
             ],
             [
              0.3333333333333333,
              "#9c179e"
             ],
             [
              0.4444444444444444,
              "#bd3786"
             ],
             [
              0.5555555555555556,
              "#d8576b"
             ],
             [
              0.6666666666666666,
              "#ed7953"
             ],
             [
              0.7777777777777778,
              "#fb9f3a"
             ],
             [
              0.8888888888888888,
              "#fdca26"
             ],
             [
              1,
              "#f0f921"
             ]
            ],
            "type": "histogram2dcontour"
           }
          ],
          "mesh3d": [
           {
            "colorbar": {
             "outlinewidth": 0,
             "ticks": ""
            },
            "type": "mesh3d"
           }
          ],
          "parcoords": [
           {
            "line": {
             "colorbar": {
              "outlinewidth": 0,
              "ticks": ""
             }
            },
            "type": "parcoords"
           }
          ],
          "pie": [
           {
            "automargin": true,
            "type": "pie"
           }
          ],
          "scatter": [
           {
            "marker": {
             "colorbar": {
              "outlinewidth": 0,
              "ticks": ""
             }
            },
            "type": "scatter"
           }
          ],
          "scatter3d": [
           {
            "line": {
             "colorbar": {
              "outlinewidth": 0,
              "ticks": ""
             }
            },
            "marker": {
             "colorbar": {
              "outlinewidth": 0,
              "ticks": ""
             }
            },
            "type": "scatter3d"
           }
          ],
          "scattercarpet": [
           {
            "marker": {
             "colorbar": {
              "outlinewidth": 0,
              "ticks": ""
             }
            },
            "type": "scattercarpet"
           }
          ],
          "scattergeo": [
           {
            "marker": {
             "colorbar": {
              "outlinewidth": 0,
              "ticks": ""
             }
            },
            "type": "scattergeo"
           }
          ],
          "scattergl": [
           {
            "marker": {
             "colorbar": {
              "outlinewidth": 0,
              "ticks": ""
             }
            },
            "type": "scattergl"
           }
          ],
          "scattermapbox": [
           {
            "marker": {
             "colorbar": {
              "outlinewidth": 0,
              "ticks": ""
             }
            },
            "type": "scattermapbox"
           }
          ],
          "scatterpolar": [
           {
            "marker": {
             "colorbar": {
              "outlinewidth": 0,
              "ticks": ""
             }
            },
            "type": "scatterpolar"
           }
          ],
          "scatterpolargl": [
           {
            "marker": {
             "colorbar": {
              "outlinewidth": 0,
              "ticks": ""
             }
            },
            "type": "scatterpolargl"
           }
          ],
          "scatterternary": [
           {
            "marker": {
             "colorbar": {
              "outlinewidth": 0,
              "ticks": ""
             }
            },
            "type": "scatterternary"
           }
          ],
          "surface": [
           {
            "colorbar": {
             "outlinewidth": 0,
             "ticks": ""
            },
            "colorscale": [
             [
              0,
              "#0d0887"
             ],
             [
              0.1111111111111111,
              "#46039f"
             ],
             [
              0.2222222222222222,
              "#7201a8"
             ],
             [
              0.3333333333333333,
              "#9c179e"
             ],
             [
              0.4444444444444444,
              "#bd3786"
             ],
             [
              0.5555555555555556,
              "#d8576b"
             ],
             [
              0.6666666666666666,
              "#ed7953"
             ],
             [
              0.7777777777777778,
              "#fb9f3a"
             ],
             [
              0.8888888888888888,
              "#fdca26"
             ],
             [
              1,
              "#f0f921"
             ]
            ],
            "type": "surface"
           }
          ],
          "table": [
           {
            "cells": {
             "fill": {
              "color": "#EBF0F8"
             },
             "line": {
              "color": "white"
             }
            },
            "header": {
             "fill": {
              "color": "#C8D4E3"
             },
             "line": {
              "color": "white"
             }
            },
            "type": "table"
           }
          ]
         },
         "layout": {
          "annotationdefaults": {
           "arrowcolor": "#2a3f5f",
           "arrowhead": 0,
           "arrowwidth": 1
          },
          "coloraxis": {
           "colorbar": {
            "outlinewidth": 0,
            "ticks": ""
           }
          },
          "colorscale": {
           "diverging": [
            [
             0,
             "#8e0152"
            ],
            [
             0.1,
             "#c51b7d"
            ],
            [
             0.2,
             "#de77ae"
            ],
            [
             0.3,
             "#f1b6da"
            ],
            [
             0.4,
             "#fde0ef"
            ],
            [
             0.5,
             "#f7f7f7"
            ],
            [
             0.6,
             "#e6f5d0"
            ],
            [
             0.7,
             "#b8e186"
            ],
            [
             0.8,
             "#7fbc41"
            ],
            [
             0.9,
             "#4d9221"
            ],
            [
             1,
             "#276419"
            ]
           ],
           "sequential": [
            [
             0,
             "#0d0887"
            ],
            [
             0.1111111111111111,
             "#46039f"
            ],
            [
             0.2222222222222222,
             "#7201a8"
            ],
            [
             0.3333333333333333,
             "#9c179e"
            ],
            [
             0.4444444444444444,
             "#bd3786"
            ],
            [
             0.5555555555555556,
             "#d8576b"
            ],
            [
             0.6666666666666666,
             "#ed7953"
            ],
            [
             0.7777777777777778,
             "#fb9f3a"
            ],
            [
             0.8888888888888888,
             "#fdca26"
            ],
            [
             1,
             "#f0f921"
            ]
           ],
           "sequentialminus": [
            [
             0,
             "#0d0887"
            ],
            [
             0.1111111111111111,
             "#46039f"
            ],
            [
             0.2222222222222222,
             "#7201a8"
            ],
            [
             0.3333333333333333,
             "#9c179e"
            ],
            [
             0.4444444444444444,
             "#bd3786"
            ],
            [
             0.5555555555555556,
             "#d8576b"
            ],
            [
             0.6666666666666666,
             "#ed7953"
            ],
            [
             0.7777777777777778,
             "#fb9f3a"
            ],
            [
             0.8888888888888888,
             "#fdca26"
            ],
            [
             1,
             "#f0f921"
            ]
           ]
          },
          "colorway": [
           "#1f77b4",
           "#ff7f0e",
           "#2ca02c",
           "#dc3912",
           "#9467bd",
           "#8c564b",
           "#e377c2",
           "#7f7f7f",
           "#bcbd22",
           "#17becf"
          ],
          "font": {
           "color": "#2a3f5f"
          },
          "geo": {
           "bgcolor": "white",
           "lakecolor": "white",
           "landcolor": "#E5ECF6",
           "showlakes": true,
           "showland": true,
           "subunitcolor": "white"
          },
          "hoverlabel": {
           "align": "left"
          },
          "hovermode": "closest",
          "mapbox": {
           "style": "light"
          },
          "paper_bgcolor": "white",
          "plot_bgcolor": "#E5ECF6",
          "polar": {
           "angularaxis": {
            "gridcolor": "white",
            "linecolor": "white",
            "ticks": ""
           },
           "bgcolor": "#E5ECF6",
           "radialaxis": {
            "gridcolor": "white",
            "linecolor": "white",
            "ticks": ""
           }
          },
          "scene": {
           "xaxis": {
            "backgroundcolor": "#E5ECF6",
            "gridcolor": "white",
            "gridwidth": 2,
            "linecolor": "white",
            "showbackground": true,
            "ticks": "",
            "zerolinecolor": "white"
           },
           "yaxis": {
            "backgroundcolor": "#E5ECF6",
            "gridcolor": "white",
            "gridwidth": 2,
            "linecolor": "white",
            "showbackground": true,
            "ticks": "",
            "zerolinecolor": "white"
           },
           "zaxis": {
            "backgroundcolor": "#E5ECF6",
            "gridcolor": "white",
            "gridwidth": 2,
            "linecolor": "white",
            "showbackground": true,
            "ticks": "",
            "zerolinecolor": "white"
           }
          },
          "shapedefaults": {
           "line": {
            "color": "#2a3f5f"
           }
          },
          "ternary": {
           "aaxis": {
            "gridcolor": "white",
            "linecolor": "white",
            "ticks": ""
           },
           "baxis": {
            "gridcolor": "white",
            "linecolor": "white",
            "ticks": ""
           },
           "bgcolor": "#E5ECF6",
           "caxis": {
            "gridcolor": "white",
            "linecolor": "white",
            "ticks": ""
           }
          },
          "title": {
           "x": 0.05
          },
          "xaxis": {
           "automargin": true,
           "gridcolor": "white",
           "linecolor": "white",
           "ticks": "",
           "title": {
            "standoff": 15
           },
           "zerolinecolor": "white",
           "zerolinewidth": 2
          },
          "yaxis": {
           "automargin": true,
           "gridcolor": "white",
           "linecolor": "white",
           "ticks": "",
           "title": {
            "standoff": 15
           },
           "zerolinecolor": "white",
           "zerolinewidth": 2
          }
         }
        },
        "width": 1000
       }
      }
     },
     "metadata": {},
     "output_type": "display_data"
    }
   ],
   "source": [
    "df4.vbt.plot(width=1000, height=600).show()"
   ]
  },
  {
   "cell_type": "code",
   "execution_count": null,
   "metadata": {},
   "outputs": [
    {
     "data": {
      "text/plain": [
       "Year\n",
       "2000    0.000000\n",
       "2001    0.004232\n",
       "2002    0.009684\n",
       "2003    0.014811\n",
       "2004    0.020588\n",
       "2005    0.023274\n",
       "2006    0.030313\n",
       "2007    0.032510\n",
       "2008    0.027709\n",
       "2009    0.036213\n",
       "2010    0.043537\n",
       "2011    0.050820\n",
       "2012    0.047402\n",
       "2013    0.050494\n",
       "2014    0.056435\n",
       "2015    0.050861\n",
       "Name: Life expectancy , dtype: float64"
      ]
     },
     "execution_count": 27,
     "metadata": {},
     "output_type": "execute_result"
    }
   ],
   "source": [
    "#Padronizando para ver a porcentagem de crescimento\n",
    "n_df3 = mean_df3/mean_df3.iloc[0] -1\n",
    "n_df3"
   ]
  },
  {
   "cell_type": "code",
   "execution_count": null,
   "metadata": {},
   "outputs": [
    {
     "data": {
      "text/plain": [
       "Year\n",
       "2000    0.000000\n",
       "2001    0.006036\n",
       "2002    0.008834\n",
       "2003    0.009080\n",
       "2004    0.011622\n",
       "2005    0.021501\n",
       "2006    0.028327\n",
       "2007    0.034681\n",
       "2008    0.043238\n",
       "2009    0.050668\n",
       "2010    0.050894\n",
       "2011    0.060414\n",
       "2012    0.066205\n",
       "2013    0.071411\n",
       "2014    0.075551\n",
       "2015    0.078462\n",
       "Name: Life expectancy , dtype: float64"
      ]
     },
     "execution_count": 28,
     "metadata": {},
     "output_type": "execute_result"
    }
   ],
   "source": [
    "n_df2 = mean_df2/mean_df2.iloc[0] -1\n",
    "n_df2"
   ]
  },
  {
   "cell_type": "code",
   "execution_count": null,
   "metadata": {},
   "outputs": [],
   "source": [
    "#Outra froma de plotar as coisas sem criar um dataframe:\n",
    "import matplotlib.pyplot as plt\n",
    "from matplotlib.pyplot import figure\n"
   ]
  },
  {
   "cell_type": "code",
   "execution_count": null,
   "metadata": {},
   "outputs": [
    {
     "data": {
      "text/plain": [
       "<matplotlib.legend.Legend at 0x11543096ed0>"
      ]
     },
     "execution_count": 35,
     "metadata": {},
     "output_type": "execute_result"
    },
    {
     "data": {
      "image/png": "[encoded data removed]",
      "text/plain": [
       "<Figure size 640x480 with 1 Axes>"
      ]
     },
     "metadata": {},
     "output_type": "display_data"
    }
   ],
   "source": [
    "figure(figsize = (8,6), dpi = 80) #figsize sempre = 16:9 ou 4:3 ou múltiplos\n",
    "plt.plot(mean_df2.index,mean_df2.values)\n",
    "plt.plot(mean_df3.index,mean_df3.values)\n",
    "plt.legend(['Em desenvolvilmento', 'Desenvolvido'])\n",
    "plt.title('Nome hipotético')\n",
    "plt.xlabel('Year')\n",
    "plt.ylabel('Life expectancy ')\n",
    "#nesse caso index é o x e values o y,pois estamos plotando de uma serie, o mean_df2, mas normalmente uso x= algo,y = algo)"
   ]
  },
  {
   "cell_type": "code",
   "execution_count": null,
   "metadata": {},
   "outputs": [],
   "source": [
    "#Usando agora a seaborn:\n",
    "import seaborn as sns\n",
    "sns.lineplot(data = df2, x = \"Year\", y = \"Life expectancy \"\n",
    "sns.lineplot(data = df3, x = \"Year\", y = \"Life expectancy \"\n",
    "sns.lineplot(data= df1,x= 'Year',y= 'Life expectancy ')\n",
    "#Perceba q a linha do geral fica mais proxima da linha dos paises em desen. pq tem mais dados de paises em desen.\n",
    "\n",
    "\n"
   ]
  },
  {
   "cell_type": "code",
   "execution_count": null,
   "metadata": {},
   "outputs": [
    {
     "data": {
      "text/html": [
       "<div>\n",
       "<style scoped>\n",
       "    .dataframe tbody tr th:only-of-type {\n",
       "        vertical-align: middle;\n",
       "    }\n",
       "\n",
       "    .dataframe tbody tr th {\n",
       "        vertical-align: top;\n",
       "    }\n",
       "\n",
       "    .dataframe thead th {\n",
       "        text-align: right;\n",
       "    }\n",
       "</style>\n",
       "<table border=\"1\" class=\"dataframe\">\n",
       "  <thead>\n",
       "    <tr style=\"text-align: right;\">\n",
       "      <th></th>\n",
       "      <th>Country</th>\n",
       "      <th>Life expectancy</th>\n",
       "    </tr>\n",
       "  </thead>\n",
       "  <tbody>\n",
       "    <tr>\n",
       "      <th>915</th>\n",
       "      <td>Finland</td>\n",
       "      <td>89.0</td>\n",
       "    </tr>\n",
       "    <tr>\n",
       "      <th>937</th>\n",
       "      <td>France</td>\n",
       "      <td>89.0</td>\n",
       "    </tr>\n",
       "    <tr>\n",
       "      <th>938</th>\n",
       "      <td>France</td>\n",
       "      <td>89.0</td>\n",
       "    </tr>\n",
       "  </tbody>\n",
       "</table>\n",
       "</div>"
      ],
      "text/plain": [
       "     Country  Life expectancy \n",
       "915  Finland              89.0\n",
       "937   France              89.0\n",
       "938   France              89.0"
      ]
     },
     "execution_count": 21,
     "metadata": {},
     "output_type": "execute_result"
    }
   ],
   "source": [
    "# Qual é o(s) país do conjunto de países em desenvolvimento que tem a maior expectativa de  vida?\n",
    "\n",
    "df3[df3['Life expectancy '] == np.max(df3['Life expectancy '])]\n",
    "#df3[df3['Life expectancy '] == np.max(df3['Life expectancy '])][['Country','Life expectancy ']]"
   ]
  },
  {
   "cell_type": "code",
   "execution_count": null,
   "metadata": {},
   "outputs": [],
   "source": [
    "#Usando np.where que é uma condição booleana:\n",
    "exemplo = np.array(range(1,101))\n",
    "np.where(aleat % 2 == 0, aleat *2, aleat)"
   ]
  },
  {
   "cell_type": "code",
   "execution_count": null,
   "metadata": {},
   "outputs": [
    {
     "data": {
      "text/html": [
       "<div>\n",
       "<style scoped>\n",
       "    .dataframe tbody tr th:only-of-type {\n",
       "        vertical-align: middle;\n",
       "    }\n",
       "\n",
       "    .dataframe tbody tr th {\n",
       "        vertical-align: top;\n",
       "    }\n",
       "\n",
       "    .dataframe thead th {\n",
       "        text-align: right;\n",
       "    }\n",
       "</style>\n",
       "<table border=\"1\" class=\"dataframe\">\n",
       "  <thead>\n",
       "    <tr style=\"text-align: right;\">\n",
       "      <th></th>\n",
       "      <th>Year</th>\n",
       "      <th>Life expectancy</th>\n",
       "      <th>Adult Mortality</th>\n",
       "      <th>infant deaths</th>\n",
       "      <th>Alcohol</th>\n",
       "      <th>percentage expenditure</th>\n",
       "      <th>Hepatitis B</th>\n",
       "      <th>Measles</th>\n",
       "      <th>BMI</th>\n",
       "      <th>under-five deaths</th>\n",
       "      <th>Polio</th>\n",
       "      <th>Total expenditure</th>\n",
       "      <th>Diphtheria</th>\n",
       "      <th>HIV/AIDS</th>\n",
       "      <th>GDP</th>\n",
       "      <th>Population</th>\n",
       "      <th>thinness  1-19 years</th>\n",
       "      <th>thinness 5-9 years</th>\n",
       "      <th>Income composition of resources</th>\n",
       "      <th>Schooling</th>\n",
       "    </tr>\n",
       "  </thead>\n",
       "  <tbody>\n",
       "    <tr>\n",
       "      <th>Year</th>\n",
       "      <td>1.000000</td>\n",
       "      <td>0.187169</td>\n",
       "      <td>-0.081480</td>\n",
       "      <td>-0.041358</td>\n",
       "      <td>-0.057875</td>\n",
       "      <td>0.063242</td>\n",
       "      <td>0.106839</td>\n",
       "      <td>-0.087842</td>\n",
       "      <td>0.118549</td>\n",
       "      <td>-0.047552</td>\n",
       "      <td>0.101145</td>\n",
       "      <td>0.087328</td>\n",
       "      <td>0.141910</td>\n",
       "      <td>-0.155794</td>\n",
       "      <td>0.135511</td>\n",
       "      <td>0.019336</td>\n",
       "      <td>-0.054481</td>\n",
       "      <td>-0.057749</td>\n",
       "      <td>0.285983</td>\n",
       "      <td>0.247233</td>\n",
       "    </tr>\n",
       "    <tr>\n",
       "      <th>Life expectancy</th>\n",
       "      <td>0.187169</td>\n",
       "      <td>1.000000</td>\n",
       "      <td>-0.660836</td>\n",
       "      <td>-0.166474</td>\n",
       "      <td>0.203429</td>\n",
       "      <td>0.344402</td>\n",
       "      <td>0.253645</td>\n",
       "      <td>-0.141788</td>\n",
       "      <td>0.555682</td>\n",
       "      <td>-0.195344</td>\n",
       "      <td>0.436644</td>\n",
       "      <td>0.094317</td>\n",
       "      <td>0.459877</td>\n",
       "      <td>-0.570596</td>\n",
       "      <td>0.389506</td>\n",
       "      <td>0.000417</td>\n",
       "      <td>-0.366642</td>\n",
       "      <td>-0.359685</td>\n",
       "      <td>0.644114</td>\n",
       "      <td>0.688119</td>\n",
       "    </tr>\n",
       "    <tr>\n",
       "      <th>Adult Mortality</th>\n",
       "      <td>-0.081480</td>\n",
       "      <td>-0.660836</td>\n",
       "      <td>1.000000</td>\n",
       "      <td>0.046651</td>\n",
       "      <td>-0.021861</td>\n",
       "      <td>-0.202673</td>\n",
       "      <td>-0.153184</td>\n",
       "      <td>0.007904</td>\n",
       "      <td>-0.350519</td>\n",
       "      <td>0.062214</td>\n",
       "      <td>-0.230426</td>\n",
       "      <td>-0.010400</td>\n",
       "      <td>-0.232899</td>\n",
       "      <td>0.515566</td>\n",
       "      <td>-0.234240</td>\n",
       "      <td>-0.030277</td>\n",
       "      <td>0.209435</td>\n",
       "      <td>0.215785</td>\n",
       "      <td>-0.373562</td>\n",
       "      <td>-0.374150</td>\n",
       "    </tr>\n",
       "    <tr>\n",
       "      <th>infant deaths</th>\n",
       "      <td>-0.041358</td>\n",
       "      <td>-0.166474</td>\n",
       "      <td>0.046651</td>\n",
       "      <td>1.000000</td>\n",
       "      <td>-0.064561</td>\n",
       "      <td>-0.084934</td>\n",
       "      <td>-0.225119</td>\n",
       "      <td>0.499215</td>\n",
       "      <td>-0.220569</td>\n",
       "      <td>0.996591</td>\n",
       "      <td>-0.152926</td>\n",
       "      <td>-0.122445</td>\n",
       "      <td>-0.159694</td>\n",
       "      <td>0.008704</td>\n",
       "      <td>-0.097463</td>\n",
       "      <td>0.558745</td>\n",
       "      <td>0.461088</td>\n",
       "      <td>0.467326</td>\n",
       "      <td>-0.108193</td>\n",
       "      <td>-0.167938</td>\n",
       "    </tr>\n",
       "    <tr>\n",
       "      <th>Alcohol</th>\n",
       "      <td>-0.057875</td>\n",
       "      <td>0.203429</td>\n",
       "      <td>-0.021861</td>\n",
       "      <td>-0.064561</td>\n",
       "      <td>1.000000</td>\n",
       "      <td>0.223440</td>\n",
       "      <td>0.033432</td>\n",
       "      <td>-0.005046</td>\n",
       "      <td>0.193541</td>\n",
       "      <td>-0.057899</td>\n",
       "      <td>0.127708</td>\n",
       "      <td>0.198685</td>\n",
       "      <td>0.129666</td>\n",
       "      <td>0.055217</td>\n",
       "      <td>0.183933</td>\n",
       "      <td>-0.007732</td>\n",
       "      <td>-0.300129</td>\n",
       "      <td>-0.285964</td>\n",
       "      <td>0.264024</td>\n",
       "      <td>0.387171</td>\n",
       "    </tr>\n",
       "    <tr>\n",
       "      <th>percentage expenditure</th>\n",
       "      <td>0.063242</td>\n",
       "      <td>0.344402</td>\n",
       "      <td>-0.202673</td>\n",
       "      <td>-0.084934</td>\n",
       "      <td>0.223440</td>\n",
       "      <td>1.000000</td>\n",
       "      <td>-0.026077</td>\n",
       "      <td>-0.065909</td>\n",
       "      <td>0.272744</td>\n",
       "      <td>-0.087940</td>\n",
       "      <td>0.127779</td>\n",
       "      <td>0.062591</td>\n",
       "      <td>0.144705</td>\n",
       "      <td>-0.079325</td>\n",
       "      <td>0.839000</td>\n",
       "      <td>-0.011783</td>\n",
       "      <td>-0.188535</td>\n",
       "      <td>-0.191361</td>\n",
       "      <td>0.334509</td>\n",
       "      <td>0.335374</td>\n",
       "    </tr>\n",
       "    <tr>\n",
       "      <th>Hepatitis B</th>\n",
       "      <td>0.106839</td>\n",
       "      <td>0.253645</td>\n",
       "      <td>-0.153184</td>\n",
       "      <td>-0.225119</td>\n",
       "      <td>0.033432</td>\n",
       "      <td>-0.026077</td>\n",
       "      <td>1.000000</td>\n",
       "      <td>-0.120586</td>\n",
       "      <td>0.133005</td>\n",
       "      <td>-0.235234</td>\n",
       "      <td>0.496469</td>\n",
       "      <td>0.046097</td>\n",
       "      <td>0.632816</td>\n",
       "      <td>-0.105971</td>\n",
       "      <td>0.076557</td>\n",
       "      <td>-0.124074</td>\n",
       "      <td>-0.098558</td>\n",
       "      <td>-0.104324</td>\n",
       "      <td>0.185588</td>\n",
       "      <td>0.242543</td>\n",
       "    </tr>\n",
       "    <tr>\n",
       "      <th>Measles</th>\n",
       "      <td>-0.087842</td>\n",
       "      <td>-0.141788</td>\n",
       "      <td>0.007904</td>\n",
       "      <td>0.499215</td>\n",
       "      <td>-0.005046</td>\n",
       "      <td>-0.065909</td>\n",
       "      <td>-0.120586</td>\n",
       "      <td>1.000000</td>\n",
       "      <td>-0.170057</td>\n",
       "      <td>0.505906</td>\n",
       "      <td>-0.125274</td>\n",
       "      <td>-0.102051</td>\n",
       "      <td>-0.132659</td>\n",
       "      <td>0.019826</td>\n",
       "      <td>-0.076278</td>\n",
       "      <td>0.265543</td>\n",
       "      <td>0.212992</td>\n",
       "      <td>0.209196</td>\n",
       "      <td>-0.110216</td>\n",
       "      <td>-0.120187</td>\n",
       "    </tr>\n",
       "    <tr>\n",
       "      <th>BMI</th>\n",
       "      <td>0.118549</td>\n",
       "      <td>0.555682</td>\n",
       "      <td>-0.350519</td>\n",
       "      <td>-0.220569</td>\n",
       "      <td>0.193541</td>\n",
       "      <td>0.272744</td>\n",
       "      <td>0.133005</td>\n",
       "      <td>-0.170057</td>\n",
       "      <td>1.000000</td>\n",
       "      <td>-0.231476</td>\n",
       "      <td>0.252128</td>\n",
       "      <td>0.170741</td>\n",
       "      <td>0.251162</td>\n",
       "      <td>-0.226986</td>\n",
       "      <td>0.339120</td>\n",
       "      <td>-0.069764</td>\n",
       "      <td>-0.507815</td>\n",
       "      <td>-0.517417</td>\n",
       "      <td>0.476513</td>\n",
       "      <td>0.527155</td>\n",
       "    </tr>\n",
       "    <tr>\n",
       "      <th>under-five deaths</th>\n",
       "      <td>-0.047552</td>\n",
       "      <td>-0.195344</td>\n",
       "      <td>0.062214</td>\n",
       "      <td>0.996591</td>\n",
       "      <td>-0.057899</td>\n",
       "      <td>-0.087940</td>\n",
       "      <td>-0.235234</td>\n",
       "      <td>0.505906</td>\n",
       "      <td>-0.231476</td>\n",
       "      <td>1.000000</td>\n",
       "      <td>-0.171374</td>\n",
       "      <td>-0.122659</td>\n",
       "      <td>-0.180765</td>\n",
       "      <td>0.021324</td>\n",
       "      <td>-0.101752</td>\n",
       "      <td>0.546283</td>\n",
       "      <td>0.462353</td>\n",
       "      <td>0.467328</td>\n",
       "      <td>-0.128018</td>\n",
       "      <td>-0.185638</td>\n",
       "    </tr>\n",
       "    <tr>\n",
       "      <th>Polio</th>\n",
       "      <td>0.101145</td>\n",
       "      <td>0.436644</td>\n",
       "      <td>-0.230426</td>\n",
       "      <td>-0.152926</td>\n",
       "      <td>0.127708</td>\n",
       "      <td>0.127779</td>\n",
       "      <td>0.496469</td>\n",
       "      <td>-0.125274</td>\n",
       "      <td>0.252128</td>\n",
       "      <td>-0.171374</td>\n",
       "      <td>1.000000</td>\n",
       "      <td>0.103787</td>\n",
       "      <td>0.660900</td>\n",
       "      <td>-0.134147</td>\n",
       "      <td>0.188192</td>\n",
       "      <td>-0.029568</td>\n",
       "      <td>-0.160304</td>\n",
       "      <td>-0.161683</td>\n",
       "      <td>0.331511</td>\n",
       "      <td>0.393989</td>\n",
       "    </tr>\n",
       "    <tr>\n",
       "      <th>Total expenditure</th>\n",
       "      <td>0.087328</td>\n",
       "      <td>0.094317</td>\n",
       "      <td>-0.010400</td>\n",
       "      <td>-0.122445</td>\n",
       "      <td>0.198685</td>\n",
       "      <td>0.062591</td>\n",
       "      <td>0.046097</td>\n",
       "      <td>-0.102051</td>\n",
       "      <td>0.170741</td>\n",
       "      <td>-0.122659</td>\n",
       "      <td>0.103787</td>\n",
       "      <td>1.000000</td>\n",
       "      <td>0.112549</td>\n",
       "      <td>0.055029</td>\n",
       "      <td>-0.041676</td>\n",
       "      <td>-0.071785</td>\n",
       "      <td>-0.207115</td>\n",
       "      <td>-0.215187</td>\n",
       "      <td>0.044860</td>\n",
       "      <td>0.122137</td>\n",
       "    </tr>\n",
       "    <tr>\n",
       "      <th>Diphtheria</th>\n",
       "      <td>0.141910</td>\n",
       "      <td>0.459877</td>\n",
       "      <td>-0.232899</td>\n",
       "      <td>-0.159694</td>\n",
       "      <td>0.129666</td>\n",
       "      <td>0.144705</td>\n",
       "      <td>0.632816</td>\n",
       "      <td>-0.132659</td>\n",
       "      <td>0.251162</td>\n",
       "      <td>-0.180765</td>\n",
       "      <td>0.660900</td>\n",
       "      <td>0.112549</td>\n",
       "      <td>1.000000</td>\n",
       "      <td>-0.141075</td>\n",
       "      <td>0.186416</td>\n",
       "      <td>-0.019009</td>\n",
       "      <td>-0.173039</td>\n",
       "      <td>-0.165754</td>\n",
       "      <td>0.369625</td>\n",
       "      <td>0.421159</td>\n",
       "    </tr>\n",
       "    <tr>\n",
       "      <th>HIV/AIDS</th>\n",
       "      <td>-0.155794</td>\n",
       "      <td>-0.570596</td>\n",
       "      <td>0.515566</td>\n",
       "      <td>0.008704</td>\n",
       "      <td>0.055217</td>\n",
       "      <td>-0.079325</td>\n",
       "      <td>-0.105971</td>\n",
       "      <td>0.019826</td>\n",
       "      <td>-0.226986</td>\n",
       "      <td>0.021324</td>\n",
       "      <td>-0.134147</td>\n",
       "      <td>0.055029</td>\n",
       "      <td>-0.141075</td>\n",
       "      <td>1.000000</td>\n",
       "      <td>-0.114311</td>\n",
       "      <td>-0.036052</td>\n",
       "      <td>0.162850</td>\n",
       "      <td>0.166589</td>\n",
       "      <td>-0.209548</td>\n",
       "      <td>-0.178601</td>\n",
       "    </tr>\n",
       "    <tr>\n",
       "      <th>GDP</th>\n",
       "      <td>0.135511</td>\n",
       "      <td>0.389506</td>\n",
       "      <td>-0.234240</td>\n",
       "      <td>-0.097463</td>\n",
       "      <td>0.183933</td>\n",
       "      <td>0.839000</td>\n",
       "      <td>0.076557</td>\n",
       "      <td>-0.076278</td>\n",
       "      <td>0.339120</td>\n",
       "      <td>-0.101752</td>\n",
       "      <td>0.188192</td>\n",
       "      <td>-0.041676</td>\n",
       "      <td>0.186416</td>\n",
       "      <td>-0.114311</td>\n",
       "      <td>1.000000</td>\n",
       "      <td>-0.014908</td>\n",
       "      <td>-0.185357</td>\n",
       "      <td>-0.193177</td>\n",
       "      <td>0.396537</td>\n",
       "      <td>0.378649</td>\n",
       "    </tr>\n",
       "    <tr>\n",
       "      <th>Population</th>\n",
       "      <td>0.019336</td>\n",
       "      <td>0.000417</td>\n",
       "      <td>-0.030277</td>\n",
       "      <td>0.558745</td>\n",
       "      <td>-0.007732</td>\n",
       "      <td>-0.011783</td>\n",
       "      <td>-0.124074</td>\n",
       "      <td>0.265543</td>\n",
       "      <td>-0.069764</td>\n",
       "      <td>0.546283</td>\n",
       "      <td>-0.029568</td>\n",
       "      <td>-0.071785</td>\n",
       "      <td>-0.019009</td>\n",
       "      <td>-0.036052</td>\n",
       "      <td>-0.014908</td>\n",
       "      <td>1.000000</td>\n",
       "      <td>0.257535</td>\n",
       "      <td>0.254809</td>\n",
       "      <td>0.017255</td>\n",
       "      <td>-0.009863</td>\n",
       "    </tr>\n",
       "    <tr>\n",
       "      <th>thinness  1-19 years</th>\n",
       "      <td>-0.054481</td>\n",
       "      <td>-0.366642</td>\n",
       "      <td>0.209435</td>\n",
       "      <td>0.461088</td>\n",
       "      <td>-0.300129</td>\n",
       "      <td>-0.188535</td>\n",
       "      <td>-0.098558</td>\n",
       "      <td>0.212992</td>\n",
       "      <td>-0.507815</td>\n",
       "      <td>0.462353</td>\n",
       "      <td>-0.160304</td>\n",
       "      <td>-0.207115</td>\n",
       "      <td>-0.173039</td>\n",
       "      <td>0.162850</td>\n",
       "      <td>-0.185357</td>\n",
       "      <td>0.257535</td>\n",
       "      <td>1.000000</td>\n",
       "      <td>0.929214</td>\n",
       "      <td>-0.303625</td>\n",
       "      <td>-0.362657</td>\n",
       "    </tr>\n",
       "    <tr>\n",
       "      <th>thinness 5-9 years</th>\n",
       "      <td>-0.057749</td>\n",
       "      <td>-0.359685</td>\n",
       "      <td>0.215785</td>\n",
       "      <td>0.467326</td>\n",
       "      <td>-0.285964</td>\n",
       "      <td>-0.191361</td>\n",
       "      <td>-0.104324</td>\n",
       "      <td>0.209196</td>\n",
       "      <td>-0.517417</td>\n",
       "      <td>0.467328</td>\n",
       "      <td>-0.161683</td>\n",
       "      <td>-0.215187</td>\n",
       "      <td>-0.165754</td>\n",
       "      <td>0.166589</td>\n",
       "      <td>-0.193177</td>\n",
       "      <td>0.254809</td>\n",
       "      <td>0.929214</td>\n",
       "      <td>1.000000</td>\n",
       "      <td>-0.289972</td>\n",
       "      <td>-0.348573</td>\n",
       "    </tr>\n",
       "    <tr>\n",
       "      <th>Income composition of resources</th>\n",
       "      <td>0.285983</td>\n",
       "      <td>0.644114</td>\n",
       "      <td>-0.373562</td>\n",
       "      <td>-0.108193</td>\n",
       "      <td>0.264024</td>\n",
       "      <td>0.334509</td>\n",
       "      <td>0.185588</td>\n",
       "      <td>-0.110216</td>\n",
       "      <td>0.476513</td>\n",
       "      <td>-0.128018</td>\n",
       "      <td>0.331511</td>\n",
       "      <td>0.044860</td>\n",
       "      <td>0.369625</td>\n",
       "      <td>-0.209548</td>\n",
       "      <td>0.396537</td>\n",
       "      <td>0.017255</td>\n",
       "      <td>-0.303625</td>\n",
       "      <td>-0.289972</td>\n",
       "      <td>1.000000</td>\n",
       "      <td>0.744611</td>\n",
       "    </tr>\n",
       "    <tr>\n",
       "      <th>Schooling</th>\n",
       "      <td>0.247233</td>\n",
       "      <td>0.688119</td>\n",
       "      <td>-0.374150</td>\n",
       "      <td>-0.167938</td>\n",
       "      <td>0.387171</td>\n",
       "      <td>0.335374</td>\n",
       "      <td>0.242543</td>\n",
       "      <td>-0.120187</td>\n",
       "      <td>0.527155</td>\n",
       "      <td>-0.185638</td>\n",
       "      <td>0.393989</td>\n",
       "      <td>0.122137</td>\n",
       "      <td>0.421159</td>\n",
       "      <td>-0.178601</td>\n",
       "      <td>0.378649</td>\n",
       "      <td>-0.009863</td>\n",
       "      <td>-0.362657</td>\n",
       "      <td>-0.348573</td>\n",
       "      <td>0.744611</td>\n",
       "      <td>1.000000</td>\n",
       "    </tr>\n",
       "  </tbody>\n",
       "</table>\n",
       "</div>"
      ],
      "text/plain": [
       "                                     Year  Life expectancy   Adult Mortality  \\\n",
       "Year                             1.000000          0.187169        -0.081480   \n",
       "Life expectancy                  0.187169          1.000000        -0.660836   \n",
       "Adult Mortality                 -0.081480         -0.660836         1.000000   \n",
       "infant deaths                   -0.041358         -0.166474         0.046651   \n",
       "Alcohol                         -0.057875          0.203429        -0.021861   \n",
       "percentage expenditure           0.063242          0.344402        -0.202673   \n",
       "Hepatitis B                      0.106839          0.253645        -0.153184   \n",
       "Measles                         -0.087842         -0.141788         0.007904   \n",
       " BMI                             0.118549          0.555682        -0.350519   \n",
       "under-five deaths               -0.047552         -0.195344         0.062214   \n",
       "Polio                            0.101145          0.436644        -0.230426   \n",
       "Total expenditure                0.087328          0.094317        -0.010400   \n",
       "Diphtheria                       0.141910          0.459877        -0.232899   \n",
       " HIV/AIDS                       -0.155794         -0.570596         0.515566   \n",
       "GDP                              0.135511          0.389506        -0.234240   \n",
       "Population                       0.019336          0.000417        -0.030277   \n",
       " thinness  1-19 years           -0.054481         -0.366642         0.209435   \n",
       " thinness 5-9 years             -0.057749         -0.359685         0.215785   \n",
       "Income composition of resources  0.285983          0.644114        -0.373562   \n",
       "Schooling                        0.247233          0.688119        -0.374150   \n",
       "\n",
       "                                 infant deaths   Alcohol  \\\n",
       "Year                                 -0.041358 -0.057875   \n",
       "Life expectancy                      -0.166474  0.203429   \n",
       "Adult Mortality                       0.046651 -0.021861   \n",
       "infant deaths                         1.000000 -0.064561   \n",
       "Alcohol                              -0.064561  1.000000   \n",
       "percentage expenditure               -0.084934  0.223440   \n",
       "Hepatitis B                          -0.225119  0.033432   \n",
       "Measles                               0.499215 -0.005046   \n",
       " BMI                                 -0.220569  0.193541   \n",
       "under-five deaths                     0.996591 -0.057899   \n",
       "Polio                                -0.152926  0.127708   \n",
       "Total expenditure                    -0.122445  0.198685   \n",
       "Diphtheria                           -0.159694  0.129666   \n",
       " HIV/AIDS                             0.008704  0.055217   \n",
       "GDP                                  -0.097463  0.183933   \n",
       "Population                            0.558745 -0.007732   \n",
       " thinness  1-19 years                 0.461088 -0.300129   \n",
       " thinness 5-9 years                   0.467326 -0.285964   \n",
       "Income composition of resources      -0.108193  0.264024   \n",
       "Schooling                            -0.167938  0.387171   \n",
       "\n",
       "                                 percentage expenditure  Hepatitis B  \\\n",
       "Year                                           0.063242     0.106839   \n",
       "Life expectancy                                0.344402     0.253645   \n",
       "Adult Mortality                               -0.202673    -0.153184   \n",
       "infant deaths                                 -0.084934    -0.225119   \n",
       "Alcohol                                        0.223440     0.033432   \n",
       "percentage expenditure                         1.000000    -0.026077   \n",
       "Hepatitis B                                   -0.026077     1.000000   \n",
       "Measles                                       -0.065909    -0.120586   \n",
       " BMI                                           0.272744     0.133005   \n",
       "under-five deaths                             -0.087940    -0.235234   \n",
       "Polio                                          0.127779     0.496469   \n",
       "Total expenditure                              0.062591     0.046097   \n",
       "Diphtheria                                     0.144705     0.632816   \n",
       " HIV/AIDS                                     -0.079325    -0.105971   \n",
       "GDP                                            0.839000     0.076557   \n",
       "Population                                    -0.011783    -0.124074   \n",
       " thinness  1-19 years                         -0.188535    -0.098558   \n",
       " thinness 5-9 years                           -0.191361    -0.104324   \n",
       "Income composition of resources                0.334509     0.185588   \n",
       "Schooling                                      0.335374     0.242543   \n",
       "\n",
       "                                 Measles       BMI   under-five deaths   \\\n",
       "Year                            -0.087842  0.118549           -0.047552   \n",
       "Life expectancy                 -0.141788  0.555682           -0.195344   \n",
       "Adult Mortality                  0.007904 -0.350519            0.062214   \n",
       "infant deaths                    0.499215 -0.220569            0.996591   \n",
       "Alcohol                         -0.005046  0.193541           -0.057899   \n",
       "percentage expenditure          -0.065909  0.272744           -0.087940   \n",
       "Hepatitis B                     -0.120586  0.133005           -0.235234   \n",
       "Measles                          1.000000 -0.170057            0.505906   \n",
       " BMI                            -0.170057  1.000000           -0.231476   \n",
       "under-five deaths                0.505906 -0.231476            1.000000   \n",
       "Polio                           -0.125274  0.252128           -0.171374   \n",
       "Total expenditure               -0.102051  0.170741           -0.122659   \n",
       "Diphtheria                      -0.132659  0.251162           -0.180765   \n",
       " HIV/AIDS                        0.019826 -0.226986            0.021324   \n",
       "GDP                             -0.076278  0.339120           -0.101752   \n",
       "Population                       0.265543 -0.069764            0.546283   \n",
       " thinness  1-19 years            0.212992 -0.507815            0.462353   \n",
       " thinness 5-9 years              0.209196 -0.517417            0.467328   \n",
       "Income composition of resources -0.110216  0.476513           -0.128018   \n",
       "Schooling                       -0.120187  0.527155           -0.185638   \n",
       "\n",
       "                                    Polio  Total expenditure  Diphtheria   \\\n",
       "Year                             0.101145           0.087328     0.141910   \n",
       "Life expectancy                  0.436644           0.094317     0.459877   \n",
       "Adult Mortality                 -0.230426          -0.010400    -0.232899   \n",
       "infant deaths                   -0.152926          -0.122445    -0.159694   \n",
       "Alcohol                          0.127708           0.198685     0.129666   \n",
       "percentage expenditure           0.127779           0.062591     0.144705   \n",
       "Hepatitis B                      0.496469           0.046097     0.632816   \n",
       "Measles                         -0.125274          -0.102051    -0.132659   \n",
       " BMI                             0.252128           0.170741     0.251162   \n",
       "under-five deaths               -0.171374          -0.122659    -0.180765   \n",
       "Polio                            1.000000           0.103787     0.660900   \n",
       "Total expenditure                0.103787           1.000000     0.112549   \n",
       "Diphtheria                       0.660900           0.112549     1.000000   \n",
       " HIV/AIDS                       -0.134147           0.055029    -0.141075   \n",
       "GDP                              0.188192          -0.041676     0.186416   \n",
       "Population                      -0.029568          -0.071785    -0.019009   \n",
       " thinness  1-19 years           -0.160304          -0.207115    -0.173039   \n",
       " thinness 5-9 years             -0.161683          -0.215187    -0.165754   \n",
       "Income composition of resources  0.331511           0.044860     0.369625   \n",
       "Schooling                        0.393989           0.122137     0.421159   \n",
       "\n",
       "                                  HIV/AIDS       GDP  Population  \\\n",
       "Year                             -0.155794  0.135511    0.019336   \n",
       "Life expectancy                  -0.570596  0.389506    0.000417   \n",
       "Adult Mortality                   0.515566 -0.234240   -0.030277   \n",
       "infant deaths                     0.008704 -0.097463    0.558745   \n",
       "Alcohol                           0.055217  0.183933   -0.007732   \n",
       "percentage expenditure           -0.079325  0.839000   -0.011783   \n",
       "Hepatitis B                      -0.105971  0.076557   -0.124074   \n",
       "Measles                           0.019826 -0.076278    0.265543   \n",
       " BMI                             -0.226986  0.339120   -0.069764   \n",
       "under-five deaths                 0.021324 -0.101752    0.546283   \n",
       "Polio                            -0.134147  0.188192   -0.029568   \n",
       "Total expenditure                 0.055029 -0.041676   -0.071785   \n",
       "Diphtheria                       -0.141075  0.186416   -0.019009   \n",
       " HIV/AIDS                         1.000000 -0.114311   -0.036052   \n",
       "GDP                              -0.114311  1.000000   -0.014908   \n",
       "Population                       -0.036052 -0.014908    1.000000   \n",
       " thinness  1-19 years             0.162850 -0.185357    0.257535   \n",
       " thinness 5-9 years               0.166589 -0.193177    0.254809   \n",
       "Income composition of resources  -0.209548  0.396537    0.017255   \n",
       "Schooling                        -0.178601  0.378649   -0.009863   \n",
       "\n",
       "                                  thinness  1-19 years   thinness 5-9 years  \\\n",
       "Year                                         -0.054481            -0.057749   \n",
       "Life expectancy                              -0.366642            -0.359685   \n",
       "Adult Mortality                               0.209435             0.215785   \n",
       "infant deaths                                 0.461088             0.467326   \n",
       "Alcohol                                      -0.300129            -0.285964   \n",
       "percentage expenditure                       -0.188535            -0.191361   \n",
       "Hepatitis B                                  -0.098558            -0.104324   \n",
       "Measles                                       0.212992             0.209196   \n",
       " BMI                                         -0.507815            -0.517417   \n",
       "under-five deaths                             0.462353             0.467328   \n",
       "Polio                                        -0.160304            -0.161683   \n",
       "Total expenditure                            -0.207115            -0.215187   \n",
       "Diphtheria                                   -0.173039            -0.165754   \n",
       " HIV/AIDS                                     0.162850             0.166589   \n",
       "GDP                                          -0.185357            -0.193177   \n",
       "Population                                    0.257535             0.254809   \n",
       " thinness  1-19 years                         1.000000             0.929214   \n",
       " thinness 5-9 years                           0.929214             1.000000   \n",
       "Income composition of resources              -0.303625            -0.289972   \n",
       "Schooling                                    -0.362657            -0.348573   \n",
       "\n",
       "                                 Income composition of resources  Schooling  \n",
       "Year                                                    0.285983   0.247233  \n",
       "Life expectancy                                         0.644114   0.688119  \n",
       "Adult Mortality                                        -0.373562  -0.374150  \n",
       "infant deaths                                          -0.108193  -0.167938  \n",
       "Alcohol                                                 0.264024   0.387171  \n",
       "percentage expenditure                                  0.334509   0.335374  \n",
       "Hepatitis B                                             0.185588   0.242543  \n",
       "Measles                                                -0.110216  -0.120187  \n",
       " BMI                                                    0.476513   0.527155  \n",
       "under-five deaths                                      -0.128018  -0.185638  \n",
       "Polio                                                   0.331511   0.393989  \n",
       "Total expenditure                                       0.044860   0.122137  \n",
       "Diphtheria                                              0.369625   0.421159  \n",
       " HIV/AIDS                                              -0.209548  -0.178601  \n",
       "GDP                                                     0.396537   0.378649  \n",
       "Population                                              0.017255  -0.009863  \n",
       " thinness  1-19 years                                  -0.303625  -0.362657  \n",
       " thinness 5-9 years                                    -0.289972  -0.348573  \n",
       "Income composition of resources                         1.000000   0.744611  \n",
       "Schooling                                               0.744611   1.000000  "
      ]
     },
     "execution_count": 24,
     "metadata": {},
     "output_type": "execute_result"
    }
   ],
   "source": [
    "# filtrado por países em desenvolvimento\n",
    "\n",
    "df2.corr(numeric_only= True)"
   ]
  },
  {
   "cell_type": "code",
   "execution_count": null,
   "metadata": {},
   "outputs": [
    {
     "data": {
      "text/html": [
       "<div>\n",
       "<style scoped>\n",
       "    .dataframe tbody tr th:only-of-type {\n",
       "        vertical-align: middle;\n",
       "    }\n",
       "\n",
       "    .dataframe tbody tr th {\n",
       "        vertical-align: top;\n",
       "    }\n",
       "\n",
       "    .dataframe thead th {\n",
       "        text-align: right;\n",
       "    }\n",
       "</style>\n",
       "<table border=\"1\" class=\"dataframe\">\n",
       "  <thead>\n",
       "    <tr style=\"text-align: right;\">\n",
       "      <th></th>\n",
       "      <th>Life expectancy</th>\n",
       "      <th>infant deaths</th>\n",
       "      <th>Adult Mortality</th>\n",
       "    </tr>\n",
       "  </thead>\n",
       "  <tbody>\n",
       "    <tr>\n",
       "      <th>Life expectancy</th>\n",
       "      <td>1.000000</td>\n",
       "      <td>-0.196557</td>\n",
       "      <td>-0.696359</td>\n",
       "    </tr>\n",
       "    <tr>\n",
       "      <th>infant deaths</th>\n",
       "      <td>-0.196557</td>\n",
       "      <td>1.000000</td>\n",
       "      <td>0.078756</td>\n",
       "    </tr>\n",
       "    <tr>\n",
       "      <th>Adult Mortality</th>\n",
       "      <td>-0.696359</td>\n",
       "      <td>0.078756</td>\n",
       "      <td>1.000000</td>\n",
       "    </tr>\n",
       "  </tbody>\n",
       "</table>\n",
       "</div>"
      ],
      "text/plain": [
       "                  Life expectancy   infant deaths  Adult Mortality\n",
       "Life expectancy           1.000000      -0.196557        -0.696359\n",
       "infant deaths            -0.196557       1.000000         0.078756\n",
       "Adult Mortality          -0.696359       0.078756         1.000000"
      ]
     },
     "execution_count": 25,
     "metadata": {},
     "output_type": "execute_result"
    }
   ],
   "source": [
    "df1[['Life expectancy ','infant deaths','Adult Mortality']].corr()"
   ]
  },
  {
   "cell_type": "code",
   "execution_count": null,
   "metadata": {},
   "outputs": [
    {
     "data": {
      "text/html": [
       "<div>\n",
       "<style scoped>\n",
       "    .dataframe tbody tr th:only-of-type {\n",
       "        vertical-align: middle;\n",
       "    }\n",
       "\n",
       "    .dataframe tbody tr th {\n",
       "        vertical-align: top;\n",
       "    }\n",
       "\n",
       "    .dataframe thead th {\n",
       "        text-align: right;\n",
       "    }\n",
       "</style>\n",
       "<table border=\"1\" class=\"dataframe\">\n",
       "  <thead>\n",
       "    <tr style=\"text-align: right;\">\n",
       "      <th></th>\n",
       "      <th>Life expectancy</th>\n",
       "      <th>infant deaths</th>\n",
       "      <th>Adult Mortality</th>\n",
       "    </tr>\n",
       "  </thead>\n",
       "  <tbody>\n",
       "    <tr>\n",
       "      <th>Life expectancy</th>\n",
       "      <td>1.000000</td>\n",
       "      <td>-0.166474</td>\n",
       "      <td>-0.660836</td>\n",
       "    </tr>\n",
       "    <tr>\n",
       "      <th>infant deaths</th>\n",
       "      <td>-0.166474</td>\n",
       "      <td>1.000000</td>\n",
       "      <td>0.046651</td>\n",
       "    </tr>\n",
       "    <tr>\n",
       "      <th>Adult Mortality</th>\n",
       "      <td>-0.660836</td>\n",
       "      <td>0.046651</td>\n",
       "      <td>1.000000</td>\n",
       "    </tr>\n",
       "  </tbody>\n",
       "</table>\n",
       "</div>"
      ],
      "text/plain": [
       "                  Life expectancy   infant deaths  Adult Mortality\n",
       "Life expectancy           1.000000      -0.166474        -0.660836\n",
       "infant deaths            -0.166474       1.000000         0.046651\n",
       "Adult Mortality          -0.660836       0.046651         1.000000"
      ]
     },
     "execution_count": 26,
     "metadata": {},
     "output_type": "execute_result"
    }
   ],
   "source": [
    "df2[['Life expectancy ','infant deaths','Adult Mortality']].corr()"
   ]
  },
  {
   "cell_type": "code",
   "execution_count": null,
   "metadata": {},
   "outputs": [
    {
     "data": {
      "text/html": [
       "<div>\n",
       "<style scoped>\n",
       "    .dataframe tbody tr th:only-of-type {\n",
       "        vertical-align: middle;\n",
       "    }\n",
       "\n",
       "    .dataframe tbody tr th {\n",
       "        vertical-align: top;\n",
       "    }\n",
       "\n",
       "    .dataframe thead th {\n",
       "        text-align: right;\n",
       "    }\n",
       "</style>\n",
       "<table border=\"1\" class=\"dataframe\">\n",
       "  <thead>\n",
       "    <tr style=\"text-align: right;\">\n",
       "      <th></th>\n",
       "      <th>Life expectancy</th>\n",
       "      <th>infant deaths</th>\n",
       "      <th>Adult Mortality</th>\n",
       "    </tr>\n",
       "  </thead>\n",
       "  <tbody>\n",
       "    <tr>\n",
       "      <th>Life expectancy</th>\n",
       "      <td>1.000000</td>\n",
       "      <td>-0.054764</td>\n",
       "      <td>-0.485489</td>\n",
       "    </tr>\n",
       "    <tr>\n",
       "      <th>infant deaths</th>\n",
       "      <td>-0.054764</td>\n",
       "      <td>1.000000</td>\n",
       "      <td>-0.048109</td>\n",
       "    </tr>\n",
       "    <tr>\n",
       "      <th>Adult Mortality</th>\n",
       "      <td>-0.485489</td>\n",
       "      <td>-0.048109</td>\n",
       "      <td>1.000000</td>\n",
       "    </tr>\n",
       "  </tbody>\n",
       "</table>\n",
       "</div>"
      ],
      "text/plain": [
       "                  Life expectancy   infant deaths  Adult Mortality\n",
       "Life expectancy           1.000000      -0.054764        -0.485489\n",
       "infant deaths            -0.054764       1.000000        -0.048109\n",
       "Adult Mortality          -0.485489      -0.048109         1.000000"
      ]
     },
     "execution_count": 27,
     "metadata": {},
     "output_type": "execute_result"
    }
   ],
   "source": [
    "df3[['Life expectancy ','infant deaths','Adult Mortality']].corr()"
   ]
  },
  {
   "cell_type": "code",
   "execution_count": null,
   "metadata": {},
   "outputs": [
    {
     "data": {
      "text/plain": [
       "<Axes: >"
      ]
     },
     "execution_count": 31,
     "metadata": {},
     "output_type": "execute_result"
    },
    {
     "data": {
      "image/png": "[encoded data removed]",
      "text/plain": [
       "<Figure size 800x600 with 2 Axes>"
      ]
     },
     "metadata": {},
     "output_type": "display_data"
    }
   ],
   "source": [
    "import seaborn as sns\n",
    "import matplotlib.pyplot as plt\n",
    "\n",
    "plt.figure(figsize=(8,6))\n",
    "\n",
    "sns.heatmap(df2.corr(numeric_only= True))"
   ]
  },
  {
   "cell_type": "code",
   "execution_count": null,
   "metadata": {},
   "outputs": [
    {
     "data": {
      "text/plain": [
       "<matplotlib.collections.PathCollection at 0x115431f8e90>"
      ]
     },
     "execution_count": 36,
     "metadata": {},
     "output_type": "execute_result"
    },
    {
     "data": {
      "image/png": "[encoded data removed]",
      "text/plain": [
       "<Figure size 640x480 with 1 Axes>"
      ]
     },
     "metadata": {},
     "output_type": "display_data"
    }
   ],
   "source": [
    "#perceba acima que há grande correlação entre adult mortality e life expctyancy, vamos observar essa correlação de outra forma:\n",
    "plt.scatter(x=df2['Adult Mortality'], y =  df2['Life expectancy '])\n",
    "#perceba q realmente há uma correlação - aumenta a mortalidade, diminui a expcetativa de vida"
   ]
  },
  {
   "cell_type": "code",
   "execution_count": null,
   "metadata": {},
   "outputs": [
    {
     "data": {
      "text/plain": [
       "<matplotlib.collections.PathCollection at 0x1154308fd10>"
      ]
     },
     "execution_count": 37,
     "metadata": {},
     "output_type": "execute_result"
    },
    {
     "data": {
      "image/png": "[encoded data removed]",
      "text/plain": [
       "<Figure size 640x480 with 1 Axes>"
      ]
     },
     "metadata": {},
     "output_type": "display_data"
    }
   ],
   "source": [
    "#Perceba por exemplo que ja essas variaveis abaix, nao tem correlação:\n",
    "plt.scatter(x=df2['Total expenditure'], y=df2['Life expectancy '])"
   ]
  },
  {
   "cell_type": "code",
   "execution_count": null,
   "metadata": {},
   "outputs": [
    {
     "data": {
      "text/plain": [
       "<Axes: >"
      ]
     },
     "execution_count": 32,
     "metadata": {},
     "output_type": "execute_result"
    },
    {
     "data": {
      "image/png": "[encoded data removed]",
      "text/plain": [
       "<Figure size 800x600 with 2 Axes>"
      ]
     },
     "metadata": {},
     "output_type": "display_data"
    }
   ],
   "source": [
    "plt.figure(figsize=(8,6))\n",
    "\n",
    "sns.heatmap(df3.corr(numeric_only= True))"
   ]
  },
  {
   "cell_type": "code",
   "execution_count": null,
   "metadata": {},
   "outputs": [
    {
     "data": {
      "text/plain": [
       "array([0.1])"
      ]
     },
     "execution_count": 33,
     "metadata": {},
     "output_type": "execute_result"
    }
   ],
   "source": [
    "df3[' HIV/AIDS'].unique()"
   ]
  },
  {
   "cell_type": "code",
   "execution_count": null,
   "metadata": {},
   "outputs": [
    {
     "data": {
      "text/plain": [
       "array([ 0.1,  1.9,  2. ,  2.3,  2.6,  2.5,  2.4,  2.1,  0.2,  0.4,  0.8,\n",
       "        0.7,  0.9,  0.5,  0.3,  0.6,  1.5,  1. ,  1.1,  1.2,  1.3,  1.4,\n",
       "        1.6,  1.8,  2.2,  2.8,  4.4,  5.5,  6.2,  9. , 12.7, 13.4, 14.4,\n",
       "       20.6, 28.4, 31.9, 34.6, 37.2, 38.8,  1.7,  2.9,  3.2,  3.6,  4. ,\n",
       "        3.4,  3.8,  4.3,  4.8,  5.1,  5.2,  5.3,  3.3,  3.7,  4.1,  5.8,\n",
       "        6.1,  6.5,  6.7,  6.9,  7. ,  7.1,  3.5,  4.6,  4.9,  6.3,  7.2,\n",
       "        7.4,  7.5,  7.7,  7.8,  7.9,  4.5,  6.6,  7.3,  8.3, 10. , 11.2,\n",
       "       12. , 12.8, 13.9, 14.3,  3.1,  3.9,  4.7,  5. ,  3. ,  5.9,  6.8,\n",
       "        7.6,  2.7,  4.2,  5.7,  8.2,  6. ,  8. ,  8.9, 10.7, 10.9, 11.1,\n",
       "       11. , 10.1,  9.5,  5.6,  5.4,  6.4,  9.1, 10.3, 11.6, 13.2, 14.5,\n",
       "       15.7, 16.9, 18.1,  9.3,  9.4,  9.6, 10.5, 18.2, 27.3, 30. , 34.1,\n",
       "       34.8, 33.8, 32.5, 31.2, 29.8, 13.7, 14.9, 19.3, 21.1, 22.4, 23.4,\n",
       "       24.2, 24.7, 25.1, 25.5, 10.8, 11.3, 12.6, 14.1, 16.3, 16.2, 15.9,\n",
       "       15.3, 12.2,  8.7, 11.7, 15.2, 19.2, 22.1, 24. , 24.6, 23.9, 22.8,\n",
       "        8.1,  8.5, 19. , 23.5, 26.4, 28.1, 29.5, 29.7, 28.9, 26.6, 21.3,\n",
       "        9.8, 21.6, 33.7, 40.2, 40.7, 43.7, 49.1, 50.3, 50.6, 49.9, 48.8,\n",
       "       46.4,  8.4,  8.6, 11.5, 12.1, 12.5, 11.9, 13.6, 17. , 17.6, 18.4,\n",
       "       18.6, 18.7,  8.8, 13.3, 20.5, 23.7, 26.8, 30.3, 33.6, 36.7, 39.8,\n",
       "       42.1, 43.5])"
      ]
     },
     "execution_count": 34,
     "metadata": {},
     "output_type": "execute_result"
    }
   ],
   "source": [
    "df2[' HIV/AIDS'].unique()"
   ]
  },
  {
   "cell_type": "code",
   "execution_count": null,
   "metadata": {},
   "outputs": [],
   "source": [
    "sns.histplot(data = df2 ,x = 'Life expectancy ', bins=117, kde= True)"
   ]
  },
  {
   "cell_type": "code",
   "execution_count": null,
   "metadata": {},
   "outputs": [],
   "source": [
    "df22 = df2[df2['Year'] == 2000]"
   ]
  },
  {
   "cell_type": "code",
   "execution_count": null,
   "metadata": {},
   "outputs": [],
   "source": [
    "sns.histplot(data = df22 ,x = 'Life expectancy ', bins=25, kde= True)"
   ]
  },
  {
   "cell_type": "code",
   "execution_count": null,
   "metadata": {},
   "outputs": [],
   "source": [
    "df23 = df2[df2['Year'] == 2005]"
   ]
  },
  {
   "cell_type": "code",
   "execution_count": null,
   "metadata": {},
   "outputs": [],
   "source": [
    "sns.histplot(data = df23 ,x = 'Life expectancy ', bins=25, kde= True)"
   ]
  },
  {
   "cell_type": "code",
   "execution_count": null,
   "metadata": {},
   "outputs": [],
   "source": [
    "sns.histplot(data = df2 ,x = 'Hepatitis B', bins=25, kde= True)"
   ]
  },
  {
   "cell_type": "code",
   "execution_count": null,
   "metadata": {},
   "outputs": [],
   "source": [
    "df2['Hepatitis B'].mean()"
   ]
  },
  {
   "cell_type": "code",
   "execution_count": null,
   "metadata": {},
   "outputs": [],
   "source": [
    "df2.columns"
   ]
  },
  {
   "cell_type": "code",
   "execution_count": null,
   "metadata": {},
   "outputs": [],
   "source": [
    "sns.histplot(data = df2 ,x = 'Total expenditure', bins=35, kde= True)"
   ]
  },
  {
   "cell_type": "code",
   "execution_count": null,
   "metadata": {},
   "outputs": [],
   "source": [
    "df2['Total expenditure'].mean()"
   ]
  },
  {
   "cell_type": "code",
   "execution_count": null,
   "metadata": {},
   "outputs": [],
   "source": [
    "df2['Total expenditure'].median()"
   ]
  },
  {
   "cell_type": "code",
   "execution_count": null,
   "metadata": {},
   "outputs": [],
   "source": [
    "sns.histplot(data = df3 ,x = 'Total expenditure', bins=10, kde= True)"
   ]
  }
 ],
 "metadata": {
  "kernelspec": {
   "display_name": "Python 3",
   "language": "python",
   "name": "python3"
  },
  "language_info": {
   "codemirror_mode": {
    "name": "ipython",
    "version": 3
   },
   "file_extension": ".py",
   "mimetype": "text/x-python",
   "name": "python",
   "nbconvert_exporter": "python",
   "pygments_lexer": "ipython3",
   "version": "3.11.3"
  },
  "orig_nbformat": 4
 },
 "nbformat": 4,
 "nbformat_minor": 2
}
