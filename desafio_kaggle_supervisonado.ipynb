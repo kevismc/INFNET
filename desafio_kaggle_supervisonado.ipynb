{
 "cells": [
  {
   "cell_type": "markdown",
   "metadata": {},
   "source": [
    "## Pima Indians Diabetes Database"
   ]
  },
  {
   "cell_type": "markdown",
   "metadata": {},
   "source": [
    "#### 1.0 Importando bibliotecas"
   ]
  },
  {
   "cell_type": "code",
   "execution_count": 26,
   "metadata": {},
   "outputs": [],
   "source": [
    "import pandas as pd\n",
    "import numpy as np\n",
    "import matplotlib.pyplot as plt\n",
    "import seaborn as sns\n",
    "from ydata_profiling import ProfileReport\n",
    "\n",
    "\n",
    "# import matplotlib\n",
    "# matplotlib.use('TkAgg')"
   ]
  },
  {
   "cell_type": "markdown",
   "metadata": {},
   "source": [
    "#### 2.0 Importando dados"
   ]
  },
  {
   "cell_type": "code",
   "execution_count": 27,
   "metadata": {},
   "outputs": [],
   "source": [
    "url = 'C:/Users/Gabriel-PC/Bootcamp-Data-science/Personal/7 - Aprendizado supervisionado/2023.10.31 aula Charles/diabetes.csv'"
   ]
  },
  {
   "cell_type": "markdown",
   "metadata": {},
   "source": [
    "#### 3.0 Verificando os dados"
   ]
  },
  {
   "cell_type": "code",
   "execution_count": 28,
   "metadata": {},
   "outputs": [],
   "source": [
    "df = pd.read_csv(url)"
   ]
  },
  {
   "cell_type": "code",
   "execution_count": 29,
   "metadata": {},
   "outputs": [],
   "source": [
    "report_df = ProfileReport(df)"
   ]
  },
  {
   "cell_type": "code",
   "execution_count": 30,
   "metadata": {},
   "outputs": [],
   "source": [
    "# report_df"
   ]
  },
  {
   "cell_type": "markdown",
   "metadata": {},
   "source": [
    "#### 4.0 Testando os modelos"
   ]
  },
  {
   "cell_type": "markdown",
   "metadata": {},
   "source": [
    "4.1 Preparando os dados para utilização:\n",
    "\n",
    "- Divisão de treino e teste;\n",
    "- Normalização."
   ]
  },
  {
   "cell_type": "code",
   "execution_count": 31,
   "metadata": {},
   "outputs": [
    {
     "data": {
      "text/plain": [
       "Index(['Pregnancies', 'Glucose', 'BloodPressure', 'SkinThickness', 'Insulin',\n",
       "       'BMI', 'DiabetesPedigreeFunction', 'Age', 'Outcome'],\n",
       "      dtype='object')"
      ]
     },
     "execution_count": 31,
     "metadata": {},
     "output_type": "execute_result"
    }
   ],
   "source": [
    "df.columns"
   ]
  },
  {
   "cell_type": "code",
   "execution_count": 32,
   "metadata": {},
   "outputs": [],
   "source": [
    "X = df[['Pregnancies', 'Glucose', 'BloodPressure', 'SkinThickness', 'Insulin',\n",
    "       'BMI', 'DiabetesPedigreeFunction', 'Age']]\n",
    "y = df[['Outcome']]"
   ]
  },
  {
   "cell_type": "code",
   "execution_count": 33,
   "metadata": {},
   "outputs": [],
   "source": [
    "X = df[df.columns[:8]]\n",
    "y = df[df.columns[-1]]"
   ]
  },
  {
   "cell_type": "code",
   "execution_count": 34,
   "metadata": {},
   "outputs": [],
   "source": [
    "from sklearn.model_selection import train_test_split\n",
    "X_train, X_test, y_train, y_test = train_test_split(X, y,test_size= 0.30, random_state= 10, stratify= y) # 30% do dados para teste"
   ]
  },
  {
   "cell_type": "code",
   "execution_count": 35,
   "metadata": {},
   "outputs": [
    {
     "data": {
      "text/plain": [
       "Outcome\n",
       "0    500\n",
       "1    268\n",
       "dtype: int64"
      ]
     },
     "execution_count": 35,
     "metadata": {},
     "output_type": "execute_result"
    }
   ],
   "source": [
    "df.groupby('Outcome').size()"
   ]
  },
  {
   "cell_type": "code",
   "execution_count": 36,
   "metadata": {},
   "outputs": [
    {
     "data": {
      "text/plain": [
       "350"
      ]
     },
     "execution_count": 36,
     "metadata": {},
     "output_type": "execute_result"
    }
   ],
   "source": [
    "len(y_train[y_train == 0]) # verificando balanceamento"
   ]
  },
  {
   "cell_type": "code",
   "execution_count": 37,
   "metadata": {},
   "outputs": [
    {
     "data": {
      "text/plain": [
       "187"
      ]
     },
     "execution_count": 37,
     "metadata": {},
     "output_type": "execute_result"
    }
   ],
   "source": [
    "len(y_train[y_train == 1]) # verificando balanceamento"
   ]
  },
  {
   "cell_type": "code",
   "execution_count": 38,
   "metadata": {},
   "outputs": [],
   "source": [
    "from sklearn.preprocessing import StandardScaler\n",
    "scaler = StandardScaler()\n",
    "scaler.fit(X_train)\n",
    "X_train = scaler.transform(X_train)\n",
    "X_test = scaler.transform(X_test)"
   ]
  },
  {
   "cell_type": "markdown",
   "metadata": {},
   "source": [
    "4.2 KNN"
   ]
  },
  {
   "cell_type": "code",
   "execution_count": 39,
   "metadata": {},
   "outputs": [],
   "source": [
    "from sklearn.neighbors import KNeighborsClassifier\n",
    "knn = KNeighborsClassifier(n_neighbors= 11)"
   ]
  },
  {
   "cell_type": "code",
   "execution_count": 40,
   "metadata": {},
   "outputs": [
    {
     "data": {
      "text/html": [
       "<style>#sk-container-id-2 {color: black;}#sk-container-id-2 pre{padding: 0;}#sk-container-id-2 div.sk-toggleable {background-color: white;}#sk-container-id-2 label.sk-toggleable__label {cursor: pointer;display: block;width: 100%;margin-bottom: 0;padding: 0.3em;box-sizing: border-box;text-align: center;}#sk-container-id-2 label.sk-toggleable__label-arrow:before {content: \"▸\";float: left;margin-right: 0.25em;color: #696969;}#sk-container-id-2 label.sk-toggleable__label-arrow:hover:before {color: black;}#sk-container-id-2 div.sk-estimator:hover label.sk-toggleable__label-arrow:before {color: black;}#sk-container-id-2 div.sk-toggleable__content {max-height: 0;max-width: 0;overflow: hidden;text-align: left;background-color: #f0f8ff;}#sk-container-id-2 div.sk-toggleable__content pre {margin: 0.2em;color: black;border-radius: 0.25em;background-color: #f0f8ff;}#sk-container-id-2 input.sk-toggleable__control:checked~div.sk-toggleable__content {max-height: 200px;max-width: 100%;overflow: auto;}#sk-container-id-2 input.sk-toggleable__control:checked~label.sk-toggleable__label-arrow:before {content: \"▾\";}#sk-container-id-2 div.sk-estimator input.sk-toggleable__control:checked~label.sk-toggleable__label {background-color: #d4ebff;}#sk-container-id-2 div.sk-label input.sk-toggleable__control:checked~label.sk-toggleable__label {background-color: #d4ebff;}#sk-container-id-2 input.sk-hidden--visually {border: 0;clip: rect(1px 1px 1px 1px);clip: rect(1px, 1px, 1px, 1px);height: 1px;margin: -1px;overflow: hidden;padding: 0;position: absolute;width: 1px;}#sk-container-id-2 div.sk-estimator {font-family: monospace;background-color: #f0f8ff;border: 1px dotted black;border-radius: 0.25em;box-sizing: border-box;margin-bottom: 0.5em;}#sk-container-id-2 div.sk-estimator:hover {background-color: #d4ebff;}#sk-container-id-2 div.sk-parallel-item::after {content: \"\";width: 100%;border-bottom: 1px solid gray;flex-grow: 1;}#sk-container-id-2 div.sk-label:hover label.sk-toggleable__label {background-color: #d4ebff;}#sk-container-id-2 div.sk-serial::before {content: \"\";position: absolute;border-left: 1px solid gray;box-sizing: border-box;top: 0;bottom: 0;left: 50%;z-index: 0;}#sk-container-id-2 div.sk-serial {display: flex;flex-direction: column;align-items: center;background-color: white;padding-right: 0.2em;padding-left: 0.2em;position: relative;}#sk-container-id-2 div.sk-item {position: relative;z-index: 1;}#sk-container-id-2 div.sk-parallel {display: flex;align-items: stretch;justify-content: center;background-color: white;position: relative;}#sk-container-id-2 div.sk-item::before, #sk-container-id-2 div.sk-parallel-item::before {content: \"\";position: absolute;border-left: 1px solid gray;box-sizing: border-box;top: 0;bottom: 0;left: 50%;z-index: -1;}#sk-container-id-2 div.sk-parallel-item {display: flex;flex-direction: column;z-index: 1;position: relative;background-color: white;}#sk-container-id-2 div.sk-parallel-item:first-child::after {align-self: flex-end;width: 50%;}#sk-container-id-2 div.sk-parallel-item:last-child::after {align-self: flex-start;width: 50%;}#sk-container-id-2 div.sk-parallel-item:only-child::after {width: 0;}#sk-container-id-2 div.sk-dashed-wrapped {border: 1px dashed gray;margin: 0 0.4em 0.5em 0.4em;box-sizing: border-box;padding-bottom: 0.4em;background-color: white;}#sk-container-id-2 div.sk-label label {font-family: monospace;font-weight: bold;display: inline-block;line-height: 1.2em;}#sk-container-id-2 div.sk-label-container {text-align: center;}#sk-container-id-2 div.sk-container {/* jupyter's `normalize.less` sets `[hidden] { display: none; }` but bootstrap.min.css set `[hidden] { display: none !important; }` so we also need the `!important` here to be able to override the default hidden behavior on the sphinx rendered scikit-learn.org. See: https://github.com/scikit-learn/scikit-learn/issues/21755 */display: inline-block !important;position: relative;}#sk-container-id-2 div.sk-text-repr-fallback {display: none;}</style><div id=\"sk-container-id-2\" class=\"sk-top-container\"><div class=\"sk-text-repr-fallback\"><pre>KNeighborsClassifier(n_neighbors=11)</pre><b>In a Jupyter environment, please rerun this cell to show the HTML representation or trust the notebook. <br />On GitHub, the HTML representation is unable to render, please try loading this page with nbviewer.org.</b></div><div class=\"sk-container\" hidden><div class=\"sk-item\"><div class=\"sk-estimator sk-toggleable\"><input class=\"sk-toggleable__control sk-hidden--visually\" id=\"sk-estimator-id-2\" type=\"checkbox\" checked><label for=\"sk-estimator-id-2\" class=\"sk-toggleable__label sk-toggleable__label-arrow\">KNeighborsClassifier</label><div class=\"sk-toggleable__content\"><pre>KNeighborsClassifier(n_neighbors=11)</pre></div></div></div></div></div>"
      ],
      "text/plain": [
       "KNeighborsClassifier(n_neighbors=11)"
      ]
     },
     "execution_count": 40,
     "metadata": {},
     "output_type": "execute_result"
    }
   ],
   "source": [
    "knn.fit(X_train, y_train)"
   ]
  },
  {
   "cell_type": "code",
   "execution_count": 41,
   "metadata": {},
   "outputs": [],
   "source": [
    "yhat = knn.predict(X_test)"
   ]
  },
  {
   "cell_type": "code",
   "execution_count": 42,
   "metadata": {},
   "outputs": [
    {
     "name": "stdout",
     "output_type": "stream",
     "text": [
      "Accuracy Test: 0.7359307359307359\n",
      "Precision Test: 0.6515151515151515\n",
      "Recall Test: 0.5308641975308642\n"
     ]
    }
   ],
   "source": [
    "from sklearn import metrics\n",
    "print(\"Accuracy Test:\",metrics.accuracy_score(y_test, yhat))\n",
    "print(\"Precision Test:\",metrics.precision_score(y_test,yhat))\n",
    "print(\"Recall Test:\",metrics.recall_score(y_test,yhat))"
   ]
  },
  {
   "cell_type": "code",
   "execution_count": 43,
   "metadata": {},
   "outputs": [
    {
     "name": "stdout",
     "output_type": "stream",
     "text": [
      "[2, 3, 5, 7, 11, 13, 17, 19, 23, 29, 31, 37, 41, 43, 47, 53, 59, 61, 67, 71, 73, 79, 83, 89, 97]\n",
      "[0.7359307359307359, 0.7359307359307359, 0.7359307359307359, 0.7359307359307359, 0.7359307359307359, 0.7359307359307359, 0.7359307359307359, 0.7359307359307359, 0.7359307359307359, 0.7359307359307359, 0.7359307359307359, 0.7359307359307359, 0.7359307359307359, 0.7359307359307359, 0.7359307359307359, 0.7359307359307359, 0.7359307359307359, 0.7359307359307359, 0.7359307359307359, 0.7359307359307359, 0.7359307359307359, 0.7359307359307359, 0.7359307359307359, 0.7359307359307359, 0.7359307359307359]\n",
      "[0.6515151515151515, 0.6515151515151515, 0.6515151515151515, 0.6515151515151515, 0.6515151515151515, 0.6515151515151515, 0.6515151515151515, 0.6515151515151515, 0.6515151515151515, 0.6515151515151515, 0.6515151515151515, 0.6515151515151515, 0.6515151515151515, 0.6515151515151515, 0.6515151515151515, 0.6515151515151515, 0.6515151515151515, 0.6515151515151515, 0.6515151515151515, 0.6515151515151515, 0.6515151515151515, 0.6515151515151515, 0.6515151515151515, 0.6515151515151515, 0.6515151515151515]\n",
      "[0.5308641975308642, 0.5308641975308642, 0.5308641975308642, 0.5308641975308642, 0.5308641975308642, 0.5308641975308642, 0.5308641975308642, 0.5308641975308642, 0.5308641975308642, 0.5308641975308642, 0.5308641975308642, 0.5308641975308642, 0.5308641975308642, 0.5308641975308642, 0.5308641975308642, 0.5308641975308642, 0.5308641975308642, 0.5308641975308642, 0.5308641975308642, 0.5308641975308642, 0.5308641975308642, 0.5308641975308642, 0.5308641975308642, 0.5308641975308642, 0.5308641975308642]\n"
     ]
    }
   ],
   "source": [
    "n_prime = [2, 3, 5, 7, 11, 13, 17, 19, 23, 29, 31, 37, 41, 43, 47, 53, 59, 61, 67, 71, 73, 79, 83, 89, 97]\n",
    "\n",
    "# metrics_knn = dict()\n",
    "\n",
    "metrics_knn_acc = []\n",
    "metrics_knn_pre = []\n",
    "metrics_knn_rec = []\n",
    "\n",
    "\n",
    "# for a in n_prime :\n",
    "#         metrics_knn.setdefault(a,[])\n",
    "\n",
    "for n in n_prime:\n",
    "\n",
    "    knn = KNeighborsClassifier(n_neighbors= 11)\n",
    "    knn.fit(X_train, y_train)\n",
    "    yhat = knn.predict(X_test)\n",
    "\n",
    "    acc = metrics.accuracy_score(y_test, yhat)\n",
    "    pre = metrics.precision_score(y_test,yhat)\n",
    "    rec = metrics.recall_score(y_test,yhat)\n",
    "\n",
    "    metrics_knn_acc.append(acc)\n",
    "    metrics_knn_pre.append(pre)\n",
    "    metrics_knn_rec.append(rec)\n",
    "\n",
    "#     metrics_knn[n].append(acc)\n",
    "#     metrics_knn[n].append(pre)\n",
    "#     metrics_knn[n].append(rec)\n",
    "\n",
    "# print(metrics_knn)\n",
    "\n",
    "print(n_prime)\n",
    "print(metrics_knn_acc)\n",
    "print(metrics_knn_pre)\n",
    "print(metrics_knn_rec)"
   ]
  },
  {
   "cell_type": "code",
   "execution_count": 44,
   "metadata": {},
   "outputs": [],
   "source": [
    "fig, (ax1, ax2, ax3) = plt.subplots(3,1, figsize=(6,6), dpi=120)\n",
    "\n",
    "# plot do primeiro gráfico\n",
    "\n",
    "ax1.plot(n_prime, metrics_knn_acc, label = 'Accuracy Score', color= 'black')\n",
    "ax1.set_xlabel('N')\n",
    "ax1.set_ylabel('Value')\n",
    "ax1.set_title('Accuracy Score')\n",
    "ax1.grid(True)\n",
    "\n",
    "# plot do segundo gráfico\n",
    "\n",
    "ax2.plot(n_prime, metrics_knn_pre, label = 'Precision Score', color= 'navy')\n",
    "ax2.set_xlabel('N')\n",
    "ax2.set_ylabel('Value')\n",
    "ax2.set_title('Precision Score')\n",
    "ax2.grid(True)\n",
    "\n",
    "# plot do terceiro gráfico\n",
    "\n",
    "ax3.plot(n_prime, metrics_knn_rec, label = 'Recall Score', color= 'orange')\n",
    "ax3.set_xlabel('N')\n",
    "ax3.set_ylabel('Value')\n",
    "ax3.set_title('Recall Score')\n",
    "ax3.grid(True)\n",
    "\n",
    "# ajuste do gráfico\n",
    "plt.tight_layout()\n",
    "\n",
    "# plot\n",
    "plt.show()"
   ]
  },
  {
   "cell_type": "code",
   "execution_count": 45,
   "metadata": {},
   "outputs": [],
   "source": [
    "plt.figure(figsize=(10,6), dpi=120)\n",
    "plt.plot(n_prime, metrics_knn_acc, label = 'Accuracy Score', color= 'black')\n",
    "plt.xlabel('N')\n",
    "plt.ylabel('Value')\n",
    "plt.title('Accuracy Score')\n",
    "plt.legend()\n",
    "plt.grid(True)\n",
    "plt.show()"
   ]
  },
  {
   "cell_type": "markdown",
   "metadata": {},
   "source": [
    "#### 4.3 Decision Tree"
   ]
  },
  {
   "cell_type": "code",
   "execution_count": 59,
   "metadata": {},
   "outputs": [],
   "source": [
    "from sklearn.tree import DecisionTreeClassifier, plot_tree\n",
    "import graphviz as grp\n",
    "from sklearn import tree"
   ]
  },
  {
   "cell_type": "code",
   "execution_count": 51,
   "metadata": {},
   "outputs": [],
   "source": [
    "dTree = DecisionTreeClassifier(criterion=\"entropy\", max_depth= 3)"
   ]
  },
  {
   "cell_type": "code",
   "execution_count": 52,
   "metadata": {},
   "outputs": [],
   "source": [
    "dTree = dTree.fit(X_train,y_train)"
   ]
  },
  {
   "cell_type": "code",
   "execution_count": 53,
   "metadata": {},
   "outputs": [],
   "source": [
    "yhat = dTree.predict(X_test)"
   ]
  },
  {
   "cell_type": "code",
   "execution_count": 54,
   "metadata": {},
   "outputs": [
    {
     "name": "stdout",
     "output_type": "stream",
     "text": [
      "Accuracy Test: 0.7619047619047619\n",
      "Precision Test: 0.782608695652174\n",
      "Recall Test: 0.4444444444444444\n"
     ]
    }
   ],
   "source": [
    "print(\"Accuracy Test:\",metrics.accuracy_score(y_test, yhat))\n",
    "print(\"Precision Test:\",metrics.precision_score(y_test,yhat))\n",
    "print(\"Recall Test:\",metrics.recall_score(y_test,yhat))"
   ]
  },
  {
   "cell_type": "code",
   "execution_count": 73,
   "metadata": {},
   "outputs": [],
   "source": [
    "# dot_data = tree.export_graphviz(dTree, out_file=None)\n",
    "# graph = grp.Source(dot_data)\n",
    "# graph.render(\"diabetes\")"
   ]
  },
  {
   "cell_type": "code",
   "execution_count": 74,
   "metadata": {},
   "outputs": [],
   "source": [
    "# #!conda install -c conda-forge pydotplus -y\n",
    "# #!conda install -c conda-forge python-graphviz -y\n",
    "# from  io import StringIO\n",
    "# import pydotplus\n",
    "# import matplotlib.pyplot as plt\n",
    "# import matplotlib.image as mpimg\n",
    "# from sklearn import tree\n",
    "# %matplotlib inline"
   ]
  },
  {
   "cell_type": "code",
   "execution_count": 75,
   "metadata": {},
   "outputs": [],
   "source": [
    "# dot_data = StringIO()\n",
    "# filename = \"Purchasetree.png\"\n",
    "# featureNames = df.columns[0:-1]\n",
    "# out=tree.export_graphviz(dTree,feature_names=featureNames, out_file=dot_data, class_names= ['P0','P1'], filled=True,  special_characters=True,rotate=False)\n",
    "# graph = pydotplus.graph_from_dot_data(dot_data.getvalue())\n",
    "# graph.write_png(filename)\n",
    "# img = mpimg.imread(filename)\n",
    "# plt.figure(figsize=(100, 200))\n",
    "# plt.imshow(img,interpolation='nearest')"
   ]
  },
  {
   "cell_type": "markdown",
   "metadata": {},
   "source": [
    "#### 4.4 Regressão Logística"
   ]
  },
  {
   "cell_type": "code",
   "execution_count": 76,
   "metadata": {},
   "outputs": [],
   "source": [
    "from sklearn.linear_model import LogisticRegression"
   ]
  },
  {
   "cell_type": "code",
   "execution_count": 78,
   "metadata": {},
   "outputs": [],
   "source": [
    "lr = LogisticRegression(C=0.01, solver='liblinear').fit(X_train,y_train)"
   ]
  },
  {
   "cell_type": "code",
   "execution_count": 79,
   "metadata": {},
   "outputs": [],
   "source": [
    "yhat = lr.predict(X_test)"
   ]
  },
  {
   "cell_type": "code",
   "execution_count": 80,
   "metadata": {},
   "outputs": [
    {
     "name": "stdout",
     "output_type": "stream",
     "text": [
      "Accuracy Test: 0.7878787878787878\n",
      "Precision Test: 0.7285714285714285\n",
      "Recall Test: 0.6296296296296297\n"
     ]
    }
   ],
   "source": [
    "print(\"Accuracy Test:\",metrics.accuracy_score(y_test, yhat))\n",
    "print(\"Precision Test:\",metrics.precision_score(y_test,yhat))\n",
    "print(\"Recall Test:\",metrics.recall_score(y_test,yhat))"
   ]
  },
  {
   "cell_type": "code",
   "execution_count": 81,
   "metadata": {},
   "outputs": [
    {
     "data": {
      "text/plain": [
       "array([[0.46978455, 0.53021545],\n",
       "       [0.6724519 , 0.3275481 ],\n",
       "       [0.53505268, 0.46494732],\n",
       "       [0.79964428, 0.20035572],\n",
       "       [0.45675858, 0.54324142],\n",
       "       [0.84828698, 0.15171302],\n",
       "       [0.62583301, 0.37416699],\n",
       "       [0.77683859, 0.22316141],\n",
       "       [0.61542198, 0.38457802],\n",
       "       [0.35916491, 0.64083509],\n",
       "       [0.8168787 , 0.1831213 ],\n",
       "       [0.447524  , 0.552476  ],\n",
       "       [0.76859658, 0.23140342],\n",
       "       [0.73302444, 0.26697556],\n",
       "       [0.41798502, 0.58201498],\n",
       "       [0.73742081, 0.26257919],\n",
       "       [0.6821832 , 0.3178168 ],\n",
       "       [0.33747605, 0.66252395],\n",
       "       [0.6163076 , 0.3836924 ],\n",
       "       [0.62824696, 0.37175304],\n",
       "       [0.33997783, 0.66002217],\n",
       "       [0.5302908 , 0.4697092 ],\n",
       "       [0.55071378, 0.44928622],\n",
       "       [0.41807303, 0.58192697],\n",
       "       [0.80396089, 0.19603911],\n",
       "       [0.36521006, 0.63478994],\n",
       "       [0.39296102, 0.60703898],\n",
       "       [0.57485846, 0.42514154],\n",
       "       [0.65400037, 0.34599963],\n",
       "       [0.44268853, 0.55731147],\n",
       "       [0.67844851, 0.32155149],\n",
       "       [0.59590313, 0.40409687],\n",
       "       [0.39209934, 0.60790066],\n",
       "       [0.71405427, 0.28594573],\n",
       "       [0.5870749 , 0.4129251 ],\n",
       "       [0.69828621, 0.30171379],\n",
       "       [0.80041297, 0.19958703],\n",
       "       [0.73168305, 0.26831695],\n",
       "       [0.74401699, 0.25598301],\n",
       "       [0.66549598, 0.33450402],\n",
       "       [0.68275841, 0.31724159],\n",
       "       [0.7176082 , 0.2823918 ],\n",
       "       [0.25527731, 0.74472269],\n",
       "       [0.28067161, 0.71932839],\n",
       "       [0.78761371, 0.21238629],\n",
       "       [0.26586741, 0.73413259],\n",
       "       [0.38710532, 0.61289468],\n",
       "       [0.50621594, 0.49378406],\n",
       "       [0.27814631, 0.72185369],\n",
       "       [0.73020614, 0.26979386],\n",
       "       [0.79540456, 0.20459544],\n",
       "       [0.29403855, 0.70596145],\n",
       "       [0.20981424, 0.79018576],\n",
       "       [0.56374118, 0.43625882],\n",
       "       [0.6264029 , 0.3735971 ],\n",
       "       [0.69901027, 0.30098973],\n",
       "       [0.49900084, 0.50099916],\n",
       "       [0.42522903, 0.57477097],\n",
       "       [0.63444933, 0.36555067],\n",
       "       [0.75921014, 0.24078986],\n",
       "       [0.59444797, 0.40555203],\n",
       "       [0.64051948, 0.35948052],\n",
       "       [0.61551556, 0.38448444],\n",
       "       [0.90944011, 0.09055989],\n",
       "       [0.56316058, 0.43683942],\n",
       "       [0.7845928 , 0.2154072 ],\n",
       "       [0.56124678, 0.43875322],\n",
       "       [0.58731162, 0.41268838],\n",
       "       [0.36851107, 0.63148893],\n",
       "       [0.51012272, 0.48987728],\n",
       "       [0.53502744, 0.46497256],\n",
       "       [0.72659118, 0.27340882],\n",
       "       [0.69268347, 0.30731653],\n",
       "       [0.48191789, 0.51808211],\n",
       "       [0.51532539, 0.48467461],\n",
       "       [0.26318312, 0.73681688],\n",
       "       [0.70539094, 0.29460906],\n",
       "       [0.66868449, 0.33131551],\n",
       "       [0.49713685, 0.50286315],\n",
       "       [0.73453132, 0.26546868],\n",
       "       [0.43648123, 0.56351877],\n",
       "       [0.0898281 , 0.9101719 ],\n",
       "       [0.36013651, 0.63986349],\n",
       "       [0.92630836, 0.07369164],\n",
       "       [0.53573646, 0.46426354],\n",
       "       [0.56259865, 0.43740135],\n",
       "       [0.6845291 , 0.3154709 ],\n",
       "       [0.61355639, 0.38644361],\n",
       "       [0.63180618, 0.36819382],\n",
       "       [0.64701244, 0.35298756],\n",
       "       [0.54995854, 0.45004146],\n",
       "       [0.4196462 , 0.5803538 ],\n",
       "       [0.32420326, 0.67579674],\n",
       "       [0.42897081, 0.57102919],\n",
       "       [0.49945047, 0.50054953],\n",
       "       [0.6680552 , 0.3319448 ],\n",
       "       [0.56817576, 0.43182424],\n",
       "       [0.7423911 , 0.2576089 ],\n",
       "       [0.47015707, 0.52984293],\n",
       "       [0.55571936, 0.44428064],\n",
       "       [0.82202822, 0.17797178],\n",
       "       [0.74036091, 0.25963909],\n",
       "       [0.69653277, 0.30346723],\n",
       "       [0.67336812, 0.32663188],\n",
       "       [0.30348652, 0.69651348],\n",
       "       [0.30771746, 0.69228254],\n",
       "       [0.61640816, 0.38359184],\n",
       "       [0.66508708, 0.33491292],\n",
       "       [0.77873419, 0.22126581],\n",
       "       [0.73913931, 0.26086069],\n",
       "       [0.85038877, 0.14961123],\n",
       "       [0.80734157, 0.19265843],\n",
       "       [0.35192974, 0.64807026],\n",
       "       [0.21707591, 0.78292409],\n",
       "       [0.56637336, 0.43362664],\n",
       "       [0.42723892, 0.57276108],\n",
       "       [0.72617486, 0.27382514],\n",
       "       [0.52056141, 0.47943859],\n",
       "       [0.79311464, 0.20688536],\n",
       "       [0.80892583, 0.19107417],\n",
       "       [0.22216379, 0.77783621],\n",
       "       [0.5915707 , 0.4084293 ],\n",
       "       [0.78231397, 0.21768603],\n",
       "       [0.66782106, 0.33217894],\n",
       "       [0.10070821, 0.89929179],\n",
       "       [0.34977672, 0.65022328],\n",
       "       [0.86419142, 0.13580858],\n",
       "       [0.19834374, 0.80165626],\n",
       "       [0.59035451, 0.40964549],\n",
       "       [0.72700037, 0.27299963],\n",
       "       [0.36349096, 0.63650904],\n",
       "       [0.50150014, 0.49849986],\n",
       "       [0.70523868, 0.29476132],\n",
       "       [0.41474926, 0.58525074],\n",
       "       [0.93874869, 0.06125131],\n",
       "       [0.51219674, 0.48780326],\n",
       "       [0.67351856, 0.32648144],\n",
       "       [0.40177428, 0.59822572],\n",
       "       [0.70487479, 0.29512521],\n",
       "       [0.37531761, 0.62468239],\n",
       "       [0.70154537, 0.29845463],\n",
       "       [0.1511405 , 0.8488595 ],\n",
       "       [0.80543466, 0.19456534],\n",
       "       [0.56064114, 0.43935886],\n",
       "       [0.47280202, 0.52719798],\n",
       "       [0.33034831, 0.66965169],\n",
       "       [0.80425365, 0.19574635],\n",
       "       [0.58120683, 0.41879317],\n",
       "       [0.90391718, 0.09608282],\n",
       "       [0.53471101, 0.46528899],\n",
       "       [0.71476903, 0.28523097],\n",
       "       [0.72922629, 0.27077371],\n",
       "       [0.69156575, 0.30843425],\n",
       "       [0.65277604, 0.34722396],\n",
       "       [0.70737674, 0.29262326],\n",
       "       [0.6749068 , 0.3250932 ],\n",
       "       [0.65091833, 0.34908167],\n",
       "       [0.33227418, 0.66772582],\n",
       "       [0.5283242 , 0.4716758 ],\n",
       "       [0.34724329, 0.65275671],\n",
       "       [0.54214561, 0.45785439],\n",
       "       [0.69564912, 0.30435088],\n",
       "       [0.60560846, 0.39439154],\n",
       "       [0.68776144, 0.31223856],\n",
       "       [0.47996806, 0.52003194],\n",
       "       [0.40143285, 0.59856715],\n",
       "       [0.82977114, 0.17022886],\n",
       "       [0.51742495, 0.48257505],\n",
       "       [0.68792749, 0.31207251],\n",
       "       [0.59685659, 0.40314341],\n",
       "       [0.3777527 , 0.6222473 ],\n",
       "       [0.39611482, 0.60388518],\n",
       "       [0.68117436, 0.31882564],\n",
       "       [0.71332195, 0.28667805],\n",
       "       [0.76705347, 0.23294653],\n",
       "       [0.49554451, 0.50445549],\n",
       "       [0.43708396, 0.56291604],\n",
       "       [0.59864291, 0.40135709],\n",
       "       [0.79650014, 0.20349986],\n",
       "       [0.66910699, 0.33089301],\n",
       "       [0.73290864, 0.26709136],\n",
       "       [0.52943873, 0.47056127],\n",
       "       [0.3071705 , 0.6928295 ],\n",
       "       [0.57297636, 0.42702364],\n",
       "       [0.66717791, 0.33282209],\n",
       "       [0.67181671, 0.32818329],\n",
       "       [0.62879585, 0.37120415],\n",
       "       [0.62263643, 0.37736357],\n",
       "       [0.53018512, 0.46981488],\n",
       "       [0.62174393, 0.37825607],\n",
       "       [0.74719229, 0.25280771],\n",
       "       [0.69859337, 0.30140663],\n",
       "       [0.64737747, 0.35262253],\n",
       "       [0.55241274, 0.44758726],\n",
       "       [0.65920502, 0.34079498],\n",
       "       [0.45019326, 0.54980674],\n",
       "       [0.27591822, 0.72408178],\n",
       "       [0.56017199, 0.43982801],\n",
       "       [0.61871603, 0.38128397],\n",
       "       [0.69001135, 0.30998865],\n",
       "       [0.45898665, 0.54101335],\n",
       "       [0.49144308, 0.50855692],\n",
       "       [0.38413531, 0.61586469],\n",
       "       [0.79706023, 0.20293977],\n",
       "       [0.35456149, 0.64543851],\n",
       "       [0.52789879, 0.47210121],\n",
       "       [0.63720387, 0.36279613],\n",
       "       [0.5485458 , 0.4514542 ],\n",
       "       [0.81289284, 0.18710716],\n",
       "       [0.58594018, 0.41405982],\n",
       "       [0.75161474, 0.24838526],\n",
       "       [0.66620372, 0.33379628],\n",
       "       [0.74062389, 0.25937611],\n",
       "       [0.66492246, 0.33507754],\n",
       "       [0.51474839, 0.48525161],\n",
       "       [0.5663369 , 0.4336631 ],\n",
       "       [0.25285892, 0.74714108],\n",
       "       [0.80693022, 0.19306978],\n",
       "       [0.52354049, 0.47645951],\n",
       "       [0.69651232, 0.30348768],\n",
       "       [0.37467831, 0.62532169],\n",
       "       [0.76109092, 0.23890908],\n",
       "       [0.47984282, 0.52015718],\n",
       "       [0.16058834, 0.83941166],\n",
       "       [0.3881009 , 0.6118991 ],\n",
       "       [0.80989902, 0.19010098],\n",
       "       [0.6727776 , 0.3272224 ],\n",
       "       [0.85438617, 0.14561383],\n",
       "       [0.66148903, 0.33851097],\n",
       "       [0.66245608, 0.33754392],\n",
       "       [0.42763755, 0.57236245]])"
      ]
     },
     "execution_count": 81,
     "metadata": {},
     "output_type": "execute_result"
    }
   ],
   "source": [
    "y_proba = lr.predict_proba(X_test)\n",
    "y_proba"
   ]
  },
  {
   "cell_type": "code",
   "execution_count": 89,
   "metadata": {},
   "outputs": [],
   "source": [
    "pos_0 = []\n",
    "pos_1 = []\n",
    "classe = []\n",
    "\n",
    "for a in y_proba:\n",
    "    pos_0.append(a[0])\n",
    "    pos_1.append(a[1])\n",
    "    "
   ]
  },
  {
   "cell_type": "code",
   "execution_count": 90,
   "metadata": {},
   "outputs": [
    {
     "data": {
      "text/plain": [
       "<Axes: ylabel='Count'>"
      ]
     },
     "execution_count": 90,
     "metadata": {},
     "output_type": "execute_result"
    },
    {
     "data": {
      "image/png": "[encoded data removed]",
      "text/plain": [
       "<Figure size 640x480 with 1 Axes>"
      ]
     },
     "metadata": {},
     "output_type": "display_data"
    }
   ],
   "source": [
    "sns.histplot(pos_0)"
   ]
  },
  {
   "cell_type": "code",
   "execution_count": 91,
   "metadata": {},
   "outputs": [
    {
     "data": {
      "text/plain": [
       "<Axes: ylabel='Count'>"
      ]
     },
     "execution_count": 91,
     "metadata": {},
     "output_type": "execute_result"
    },
    {
     "data": {
      "image/png": "[encoded data removed]",
      "text/plain": [
       "<Figure size 640x480 with 1 Axes>"
      ]
     },
     "metadata": {},
     "output_type": "display_data"
    }
   ],
   "source": [
    "sns.histplot(pos_1)"
   ]
  },
  {
   "cell_type": "markdown",
   "metadata": {},
   "source": [
    "#### 4.5 SVM"
   ]
  },
  {
   "cell_type": "code",
   "execution_count": 94,
   "metadata": {},
   "outputs": [],
   "source": [
    "from sklearn import svm"
   ]
  },
  {
   "cell_type": "code",
   "execution_count": 95,
   "metadata": {},
   "outputs": [],
   "source": [
    "clf = svm.SVC(kernel='rbf').fit(X_train, y_train)"
   ]
  },
  {
   "cell_type": "code",
   "execution_count": 96,
   "metadata": {},
   "outputs": [],
   "source": [
    "yhat = clf.predict(X_test)"
   ]
  },
  {
   "cell_type": "code",
   "execution_count": 97,
   "metadata": {},
   "outputs": [
    {
     "name": "stdout",
     "output_type": "stream",
     "text": [
      "Accuracy Test: 0.7922077922077922\n",
      "Precision Test: 0.7323943661971831\n",
      "Recall Test: 0.6419753086419753\n"
     ]
    }
   ],
   "source": [
    "print(\"Accuracy Test:\",metrics.accuracy_score(y_test, yhat))\n",
    "print(\"Precision Test:\",metrics.precision_score(y_test,yhat))\n",
    "print(\"Recall Test:\",metrics.recall_score(y_test,yhat))"
   ]
  }
 ],
 "metadata": {
  "kernelspec": {
   "display_name": ".venv",
   "language": "python",
   "name": "python3"
  },
  "language_info": {
   "codemirror_mode": {
    "name": "ipython",
    "version": 3
   },
   "file_extension": ".py",
   "mimetype": "text/x-python",
   "name": "python",
   "nbconvert_exporter": "python",
   "pygments_lexer": "ipython3",
   "version": "3.10.0"
  }
 },
 "nbformat": 4,
 "nbformat_minor": 2
}
