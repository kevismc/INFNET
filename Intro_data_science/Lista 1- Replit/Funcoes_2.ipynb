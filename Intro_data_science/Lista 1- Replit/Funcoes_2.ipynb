#-------------------> DIFICULDADE 1 <---------------------------
# Um algoritmo capaz de fazer uma contagem de 1 ao 9.
def contagem():
    for i in range(1, 10):
        print(i)

contagem()

# Recebe como entrada o raio do círculo em centímetros e vai mostrar no terminal pro usuário o resultado da fórmula para calcular a área.
def calcular_area(raio):
    area = 3,14*(raio ** 2)
    return area

raio = float(input("Digite o raio do círculo em centímetros: "))
area_do_circulo = calcular_area(raio)
print("A área do círculo é:", area_do_circulo, "cm²")

# Desenvolva um programa que leia um número inteiro qualquer e que apresente o número informado, seguido do seu antecessor e do seu sucessor

def calcular_antecessor_sucessor(numero):
    antecessor = numero - 1
    sucessor = numero + 1
    return antecessor, sucessor

numero_informado = int(input("Digite um número inteiro: "))
antecessor, sucessor = calcular_antecessor_sucessor(numero_informado)

print(f"O número informado é: {numero_informado}\nSeu antecessor é: {antecessor}\nSeu sucessor é: {sucessor}")


# Desenvolva um programa que leia um número inteiro qualquer e que informe se este número é par ou impar
def verificar_paridade(numero):
    if numero % 2 == 0:
        return "par"
    else:
        return "ímpar"

numero = int(input("Digite um número inteiro: "))
paridade = verificar_paridade(numero)
print(f"O número é {paridade}.")

# Um algoritmo que recebe uma temperatura em graus Celsius e retorna a temperatura em graus Fahrenheit.
def converter_para_fahrenheit(celsius):
    fahrenheit = (celsius * 9/5) + 32
    return fahrenheit

temperatura_celsius = float(input("Digite a temperatura em graus Celsius: "))
temperatura_fahrenheit = converter_para_fahrenheit(temperatura_celsius)
print(f"A temperatura em graus Fahrenheit é: {temperatura_fahrenheit}°F")

# Código capaz de criar uma lista que adiciona 5 número reais e imprimir a lista na ordem inversa.
def criar_lista_reversa():
    numeros = []
    for i in range(5):
        numero = float(input("Digite um número real: "))
        numeros.append(numero)
    return list(reversed(numeros))

lista_inversa = criar_lista_reversa()
print("Lista na ordem inversa:", lista_inversa)


#-------------------> DIFICULDADE 2 <---------------------------
# Desenvolva um programa que tenha uma função que verifique se um número inteiro qualquer é par ou impar
def verificar_paridade(numero):
    if numero % 2 == 0:
        return "par"
    else:
        return "ímpar"

numero = int(input("Digite um número inteiro: "))
paridade = verificar_paridade(numero)
print(f"O número é {paridade}.")

# Desenvolva um programa que leia quatro notas e que apresente a média final
def notas():
  notas = []
  for i in range(4):
    nota = float(input("Digite uma nota: "))
    notas.append(nota)
    med_notas = sum(notas)/len(notas)
  return med_notas
media_das_notas = notas()
print("A média das notas inseridas é:", media_das_notas)

# Considere o seguinte dicionário: {'m1': {'m2': 'Olá Mundo'}}. Carregue e apresente a mensagem "Olá Mundo" contida no dicionário
dicionario = {'m1': {'m2': 'Olá Mundo'}}
mensagem = dicionario['m1']['m2']
print(mensagem)

# Algoritmo que recebe 5 valores de entrada, no final irá printar duas listas, a primeira com os valores informados e a segunda com todos os valores ao quadrado.
def valores():
    valores_informados = []
    valores_ao_quadrado = []

    for i in range(5):
        valor = float(input("Digite um valor: "))
        valores_informados.append(valor)
        valores_ao_quadrado.append(valor ** 2)

    print("Valores informados:", valores_informados)
    print("Valores ao quadrado:", valores_ao_quadrado)

valores()

# Programa que recebe como entrada 6 valores inteiros, no final ele exibe uma lista com os 6 valores informados e qual o seu maior elemento.
def valores():
  valores_informados = []
  for i in range(6):
    valor = float(input("Digite um valor: "))
    valores_informados.append(valor)
    max_valor = max(valores_informados)
  return  valores_informados, max_valor
valores_informados, max_valor = valores()
print("Valores informados:", valores_informados)
print("Valor máximo:", max_valor)

# Algoritmo que solicita três lados de um triângulo, com esses dados o nosso programa deve informar a nomenclatura dos triângulos
def verificar_nomenclatura(lado1, lado2, lado3):
    if lado1 == lado2 == lado3:
        return "Equilátero"
    elif lado1 == lado2 or lado1 == lado3 or lado2 == lado3:
        return "Isósceles"
    else:
        return "Escaleno"

lado1 = float(input("Digite o valor do primeiro lado: "))
lado2 = float(input("Digite o valor do segundo lado: "))
lado3 = float(input("Digite o valor do terceiro lado: "))

nomenclatura = verificar_nomenclatura(lado1, lado2, lado3)
print("Nomenclatura do triângulo:", nomenclatura)

# Programa capaz de solicitar 4 valores para representar a nota do aluno, em seguida armazenas os valores em uma lista, no fim mostrar as notas e a média..
def notas():
    notas = []
    for i in range(4):
        nota = float(input("Digite uma nota: "))
        notas.append(nota)
    med_notas = sum(notas) / len(notas)
    return med_notas, notas

media_das_notas, lista_de_notas = notas()

print("A média das notas inseridas é:", media_das_notas)
print("Lista de notas:", lista_de_notas)

#-------------------> DIFICULDADE 3 <---------------------------

# Desenvolva um programa que leia um número inteiro qualquer e que apresente o número informado com duas casas decimais
numero = int(input("Digite um número inteiro: "))

numero_com_casas_decimais = "{:.2f}".format(numero)

print("Número com duas casas decimais:", numero_com_casas_decimais)
# Programa consiste em uma estrutura de repetição que vai fazer a leitura de vários números inteiros e impares, quando a lista chegar a 5 elementos deve parar com a leitura.
def num_():
    lista = []
    while len(lista) < 5:
        valor = int(input("Digite um valor: "))
        if valor % 2 == 0:
            print("Número inválido! Digite um número ímpar.")
        else:
            lista.append(valor)
    return lista

numeros_impares = num_()
print("Lista de números ímpares:", numeros_impares)
    
# Programa capaz de lidar com uma lista de 5 número inteiros e imprimir cada número juntamente com a sua posição na lista
def num_():
    dicionario = {}
    for i in range(5):
        valor = int(input("Digite um valor: "))
        if i in dicionario:
            dicionario[i].append(valor)
        else:
            dicionario[i] = [valor]
    return dicionario

dicionario_numeros = num_()
print("Dicionário:", dicionario_numeros)
    

#-------------------> DIFICULDADE 4 <---------------------------
# Programa que simula uma agenda de contatos e armazena-os em um dicionário, na questão temos 3 contatos e cada contato pode ter vários números.
def adicionar_contato(agenda, nome, numeros):
    if nome in agenda:
        print("O contato já existe na agenda.")
    else:
        agenda[nome] = numeros
        print("Contato adicionado com sucesso!")

# Criar um dicionário vazio para representar a agenda de contatos
agenda = {}

# Adicionar contatos
while True:
    nome = input("Digite o nome do contato (ou digite 'sair' para encerrar): ")
    if nome.lower() == "sair":
        break

    numeros = input("Digite os números de telefone separados por vírgula: ").split(",")
    adicionar_contato(agenda, nome, numeros)

# Exibir a agenda completa
print("Agenda de Contatos:")
for nome, numeros in agenda.items():
    print(nome + ": " + ", ".join(numeros))

#Um programa que le um dicionario com as disciplinas (chaves) e a nota (elemento), o código e capaz de dizer qual foi a menor nota.
def adc_disc_nota(bloco, disci, nota):
    bloco[disci] = nota

bloco = {}
while True:
    disciplina = input("Digite o nome da disciplina (ou digite 'sair' para encerrar): ")
    if disciplina.lower() == "sair":
        break

    notas = input("Digite as notas da disciplina separadas por vírgula: ").split(",")
    adc_disc_nota(bloco, disciplina, notas)

print("Disciplinas e Notas:")
for disciplina, notas in bloco.items():
    print(f"Disciplina: {disciplina} - Notas: {', '.join(notas)}")


#####Em uma competição de salto em distância cada atleta tem direito a cinco saltos. No final da série de saltos de cada atleta, o melhor e o pior resultados são eliminados. O seu resultado fica sendo a média dos três valores restantes. Você deve fazer um programa que receba o nome e as cinco distâncias alcançadas pelo atleta em seus saltos e depois informe a média dos saltos conforme a descrição acima informada (retirar o melhor e o pior salto e depois calcular a média). Faça uso de uma lista para armazenar os saltos. Os saltos são informados na ordem da execução, portanto não são ordenados. O programa deve ser encerrado quando não for informado o nome do atleta. A saída do programa deve ser conforme o exemplo abaixo:

def saltos():
    todas_notas = []
    for i in range(5):
        notas = float(input("Digite a nota: "))
        todas_notas.append(notas)
    todas_notas.sort()
    todas_notas = todas_notas[1:4]
    media = sum(todas_notas) / len(todas_notas)
    return todas_notas, media

resultado_final = {}

while True:
    nome_atleta = input("Digite o nome do atleta (ou digite 'sair' para encerrar): ")
    if nome_atleta.lower() == "sair":
        break
    saltos_atleta, media_saltos = saltos()
    resultado_final[nome_atleta] = media_saltos

print("\nResultado final:")
for i, k in resultado_final.items():
    print(f"{i}: {k} m")  
#-------------------> DIFICULDADE 5 <---------------------------
##Desenvolva um jogo de acerte o número, onde o computador escolhe um número inteiro aleatório de 0 a 10, e o usuário tem 5 tentativas para adivinhar o número 
#Implemente um sistema de pontuação com o seguinte comportamento: se o usuário adivinhar o número na primeira tentativa, receberá a pontuação máxima (ex. 100 pontos); se o usuário adivinhar o número na última tentativa, receberá a pontuação mínima (ex. 10 pontos); se o usuário não acertar o número, não receberá nenhum ponto.
import random

def jogo_acerte_o_numero():
    numero_secreto = random.randint(0, 10)
    tentativas = 5
    
    for tentativa in range(1, tentativas+1):
        palpite = int(input("Digite um número de 0 a 10: "))
        
        if palpite == numero_secreto:
            pontuacao = 100 - (tentativa - 1) * 20
            print(f"Parabéns! Você acertou o número na tentativa {tentativa} e ganhou {pontuacao} pontos!")
            return
        
        elif tentativa == tentativas:
            print(f"Você não acertou o número. O número secreto era {numero_secreto}.")
        
        else:
            print("Tente novamente!")
    
    print("Fim do jogo!")

jogo_acerte_o_numero()

#b): Implemente um controle de erros. Caso o jogador digite um número fora da faixa permitida ou caracteres não numéricos, o sistema deve notificar o jogador e solicitar o input correto.
import random

def jogo_acerte_o_numero():
    numero_secreto = random.randint(0, 10)
    tentativas = 5

    for tentativa in range(1, tentativas+1):
        palpite = input("Digite um número de 0 a 10: ")

        try:
            palpite = int(palpite)
        except ValueError:
            print("Entrada inválida! Digite um número válido.")
            continue

        if palpite < 0 or palpite > 10:
            print("Número fora da faixa permitida! Digite um número de 0 a 10.")
            continue

        if palpite == numero_secreto:
            pontuacao = 100 - (tentativa - 1) * 20
            print(f"Parabéns! Você acertou o número na tentativa {tentativa} e obteve {pontuacao} pontos.")
            return
        elif tentativa == tentativas:
            print(f"Você não acertou o número. O número secreto era {numero_secreto}.")
        
        else:
            print("Tente novamente!")
    
    print("Fim do jogo!")
jogo_acerte_o_numero()

#c): Implemente a opção de o usuário iniciar uma nova partida. Ao finalizar uma rodada, após o resultado final, o jogo deve perguntar se o jogador quer iniciar uma nova partida e, em caso negativo, encerrar a aplicação.
import random

def jogo_acerte_o_numero():
    numero_secreto = random.randint(0, 10)
    tentativas = 5

    def jogar_novamente():
        opcao = input("Deseja iniciar uma nova partida? (s/n): ")
        if opcao.lower() == "s":
            jogo_acerte_o_numero()
        else:
            print("Fim do jogo!")

    for tentativa in range(1, tentativas+1):
        palpite = input("Digite um número de 0 a 10: ")

        try:
            palpite = int(palpite)
        except ValueError:
            print("Entrada inválida! Digite um número válido.")
            return jogar_novamente()

        if palpite < 0 or palpite > 10:
            print("Número fora da faixa permitida! Digite um número de 0 a 10.")
            return jogar_novamente()

        if palpite == numero_secreto:
            pontuacao = 100 - (tentativa - 1) * 20
            print(f"Parabéns! Você acertou o número na tentativa {tentativa} e obteve {pontuacao} pontos.")
            return jogar_novamente()

        elif tentativa == tentativas:
            print(f"Você não acertou o número. O número secreto era {numero_secreto}.")
            return jogar_novamente()

        else:
            print("Tente novamente!")

jogo_acerte_o_numero()


