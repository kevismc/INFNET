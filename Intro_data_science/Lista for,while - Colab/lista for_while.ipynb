{
 "cells": [
  {
   "attachments": {},
   "cell_type": "markdown",
   "metadata": {},
   "source": [
    "1)Passe por todos os números até 99 (começando em 1). Imprima 'fizz' para cada número que é divisível por 7, imprima 'buzz' para cada número divisível por 5 e imprima 'fizzbuzz' para cada número divisível por 7 e 5! Se o número não for divisível por 7 ou 5, imprima um travessão (‘-‘)!"
   ]
  },
  {
   "cell_type": "code",
   "execution_count": null,
   "metadata": {},
   "outputs": [],
   "source": [
    "for i in range(1,100):\n",
    "  if i%7==0 and i%5==0:\n",
    "    print(f'fizzbuzz          {i}')\n",
    "  elif i%7==0:\n",
    "    print(f'buzz              {i}')\n",
    "  elif i%5==0:\n",
    "    print(f'fizz              {i}')\n",
    "  else:\n",
    "    print(f'-                 {i}')  \n",
    "\n",
    "#Forma2:\n",
    "str_ = list()\n",
    "numeros = list()\n",
    "for i in range (1, 100) :\n",
    "  numeros.append(i)\n",
    "  \n",
    "  if i % 5 == 0:\n",
    "    str_.append(\"buzz\")\n",
    "  elif i % 7 ==0:\n",
    "    str_.append(\"fizz\")\n",
    "  elif (i % 7 ==0) and (i % 5 ==0):\n",
    "    str_.append(\"fizzbuzz\")\n",
    "  else:\n",
    "    str_.append(\"-\")\n",
    "print(str_)\n",
    "print(numeros)"
   ]
  },
  {
   "attachments": {},
   "cell_type": "markdown",
   "metadata": {},
   "source": [
    "2) Os filmes/séries podem ser classificados conforme o seu genero (ação,comédia, drama, terror etc). Considerando as classificações abaixo:\n",
    "a) Ação = Jumanji, Projeto Gemini,The old guard,WandaVision.\n",
    "b) Comédia = Jumanji,How I Met Your Mother,Friends, Amigos para sempre.\n",
    "c) Drama = Amigos para sempre, After,Game of Thrones, WandaVision.\n",
    "Tarefas:\n",
    "\n",
    "2.1 - Cria uma lista de listas para representar cada um dos conjuntos acima.\n",
    "\n",
    "2.2 - Usando a lista criada em 2.1, escreva um programa que \"print\" na tela a quantidade de caracteres de cada título."
   ]
  },
  {
   "cell_type": "code",
   "execution_count": null,
   "metadata": {},
   "outputs": [],
   "source": [
    "#Forma1\n",
    "all_movies=[]\n",
    "def add_movies(movies_list, other_list):\n",
    "  for i in movies_list:\n",
    "    other_list.append(i)\n",
    "  return other_list\n",
    "add_movies(acao,all_movies)\n",
    "add_movies(comedia,all_movies)\n",
    "add_movies(drama,all_movies)\n",
    "all_movies = list(set(all_movies))\n",
    "caracteres_movies = {}\n",
    "for i in all_movies:\n",
    "  caracteres_movies[i]=len(i)\n",
    "for i in caracteres_movies:\n",
    "  print(f\"'{i}' tem {caracteres_movies[i]} caracteres.\")"
   ]
  },
  {
   "attachments": {},
   "cell_type": "markdown",
   "metadata": {},
   "source": [
    "3) Escreva um programa que calcule o fatorial de um número (entre com o número usando input). Sabendo que:\n",
    "a) n! = n(n-1)(n-2)...1\n",
    "b) 1! = 1\n",
    "c) 0! = 1"
   ]
  },
  {
   "cell_type": "code",
   "execution_count": null,
   "metadata": {},
   "outputs": [],
   "source": [
    "#forma1\n",
    "num = int(input(\"Digite um número inteiro e positivo: \"))\n",
    "while num < 0:\n",
    "  num = int(input(\"Valor inválido! Digite um número inteiro e positivo: \"))\n",
    "total=1\n",
    "if num == 0:\n",
    "  print(f'O fatorial de 0 é 1')\n",
    "elif num == 1:\n",
    "  print(f'O fatorial de 1 é 1')\n",
    "else:\n",
    "  while num > 1:\n",
    "    total *= num\n",
    "    num -= 1\n",
    "\n",
    "print(total)"
   ]
  },
  {
   "attachments": {},
   "cell_type": "markdown",
   "metadata": {},
   "source": [
    "4) Desafio\n",
    "Considerando o problema 2):\n",
    "4.1) Crie um dicionário no qual cada chave representa o genero do filme;\n",
    "4.2) Em um sistema de recomendação baseado em conteúdos, deseja-se saber as classificações (generos) de cada filme. Faça um programa que usando o dicionário criado em 4.1, retorne os generos associados a cada filme. (Dica: use um outro dicionário)."
   ]
  },
  {
   "cell_type": "code",
   "execution_count": null,
   "metadata": {},
   "outputs": [],
   "source": [
    "#forma1 \n",
    "movies_genres = {}\n",
    "\n",
    "for i in all_movies:\n",
    "  movies_genres[i] = []\n",
    "  if i in comedia:\n",
    "    movies_genres[i].append(\"Comédia\")\n",
    "  if i in acao:\n",
    "    movies_genres[i].append(\"Ação\")\n",
    "  if i in drama:\n",
    "    movies_genres[i].append(\"Drama\")\n",
    "\n",
    "movies_genres"
   ]
  }
 ],
 "metadata": {
  "language_info": {
   "name": "python"
  },
  "orig_nbformat": 4
 },
 "nbformat": 4,
 "nbformat_minor": 2
}
