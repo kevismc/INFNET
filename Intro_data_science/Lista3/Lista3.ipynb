{
 "cells": [
  {
   "cell_type": "code",
   "execution_count": 11,
   "metadata": {},
   "outputs": [
    {
     "name": "stdout",
     "output_type": "stream",
     "text": [
      "{'': [1, 2, 3, 4, 5, 6, 7, 8, 9, 10, 11, 12, 13, 14, 15, 16, 17, 18, 19, 20, 21, 22, 23, 24, 25, 26, 27, 28, 29, 30, 31, 32, 33, 34, 35, 36, 37, 38, 39, 40, 41, 42, 43, 44, 45, 46, 47, 48, 49, 50, 51, 52, 53, 54, 55, 56, 57, 58, 59, 60, 61, 62, 63, 64, 65, 66, 67, 68, 69, 70, 71, 72, 73, 74, 75, 76, 77], 'item': ['8-Grain Roll', 'Apple Bran Muffin', 'Apple Fritter', 'Banana Nut Loaf', 'Birthday Cake Mini Doughnut', 'Blueberry Oat Bar', 'Blueberry Scone', 'Bountiful Blueberry Muffin', 'Butter Croissant ', 'Cheese Danish', 'Chocolate Chunk Cookie', 'Chocolate Cinnamon Bread', 'Chocolate Croissant', 'Chocolate Old-Fashioned Doughnut', 'Chonga Bagel', 'Cinnamon Chip Scone', 'Cranberry Orange Scone', 'Double Chocolate Brownie', 'Double Fudge Mini Doughnut', 'Everything with Cheese Bagel', 'Ginger Molasses Cookie', 'Iced Lemon Pound Cake', 'Mallorca Sweet Bread', 'Maple Oat Pecan Scone ', 'Marble Pound Cake', 'Marshmallow Dream Bar', 'Morning Bun', 'Multigrain Bagel', 'Old-Fashioned Glazed Doughnut', 'Outrageous Oatmeal Cookie', 'Petite Vanilla Bean Scone', 'Plain Bagel', 'Pumpkin Bread', 'Pumpkin Scone ', 'Raspberry Scone', 'Raspberry Swirl Pound Cake', 'Reduced-Fat Banana Chocolate Chip Coffee Cake', 'Reduced-Fat Cinnamon Swirl Coffee Cake', 'Reduced-Fat Very Berry Coffee Cake ', 'Starbucks Classic Coffee Cake', 'Zucchini Walnut Muffin ', 'Cheese & Fruit', 'Chicken & Hummus', 'Chicken Lettuce Wraps', 'Chipotle Chicken Wraps', 'Protein', 'Salumi & Cheese', 'Sesame Noodles', 'Tuna Salad', 'Apple Pie', 'Birthday Cake Pop', 'Brown Sugar Walnut Tart', 'Cherry Pie', 'Chocolate Creme Whoopie Pie', 'Chocolate Hazelnut Tart', 'Raspberry Truffle Cake Pop', 'Red Velvet Whoopie Pie', 'Tiramisu Cake Pop', 'Bacon & Gouda Artisan Breakfast Sandwich', 'Chicken Sausage Breakfast Wrap', 'Ham & Cheddar Artisan Breakfast Sandwich', 'Sausage & Cheddar Classic Breakfast Sandwich', 'Spinach & Feta Breakfast Wrap', 'Starbucks Perfect Oatmeal', 'Turkey Bacon & White Cheddar Classic Breakfast Sandwich', 'Veggie & Monterey Jack Artisan Breakfast Sandwich', 'Deluxe Fruit Blend', 'Chicken Santa Fe Panini', 'Egg Salad Sandwich ', 'Ham & Swiss Panini', 'Roasted Tomato & Mozzarella Panini', 'Roasted Vegetable Panini', 'Tarragon Chicken Salad Sandwich', 'Turkey & Swiss Sandwich', 'Greek Yogurt Honey Parfait', 'Peach Raspberry Yogurt Parfait', 'Strawberry & Blueberry Yogurt Parfait'], 'calories': [350, 350, 420, 490, 130, 370, 460, 370, 310, 420, 380, 320, 300, 420, 310, 480, 490, 410, 130, 280, 360, 490, 420, 440, 350, 210, 350, 300, 420, 370, 140, 280, 390, 480, 480, 430, 400, 340, 350, 440, 490, 480, 270, 360, 380, 380, 420, 350, 380, 180, 170, 190, 170, 190, 180, 160, 190, 170, 350, 300, 350, 500, 290, 140, 320, 350, 80, 400, 460, 360, 390, 350, 420, 390, 300, 300, 300], 'fat': [8.0, 9.0, 20.0, 19.0, 6.0, 14.0, 22.0, 14.0, 18.0, 25.0, 17.0, 12.0, 17.0, 21.0, 5.0, 18.0, 18.0, 24.0, 7.0, 2.0, 12.0, 23.0, 25.0, 18.0, 13.0, 4.0, 16.0, 3.0, 21.0, 14.0, 5.0, 1.0, 14.0, 17.0, 25.0, 16.0, 8.0, 9.0, 10.0, 19.0, 28.0, 28.0, 8.0, 19.0, 15.0, 19.0, 26.0, 11.0, 21.0, 7.0, 9.0, 12.0, 7.0, 11.0, 10.0, 8.0, 11.0, 9.0, 18.0, 10.0, 16.0, 28.0, 10.0, 2.5, 7.0, 18.0, 0.0, 11.0, 27.0, 9.0, 18.0, 12.0, 13.0, 13.0, 12.0, 4.0, 3.5], 'carb': [67, 64, 59, 75, 17, 47, 61, 55, 32, 39, 51, 53, 34, 57, 52, 70, 73, 46, 16, 56, 58, 67, 42, 59, 54, 43, 45, 60, 57, 56, 21, 59, 61, 78, 59, 69, 80, 62, 59, 63, 52, 39, 29, 32, 35, 37, 22, 50, 25, 27, 22, 24, 24, 23, 23, 24, 21, 22, 30, 33, 31, 41, 33, 25, 43, 30, 20, 47, 37, 43, 44, 48, 46, 36, 44, 57, 60], 'fiber': [5, 7, 0, 4, 0, 5, 2, 0, 0, 0, 2, 3, 2, 2, 3, 3, 2, 3, 0, 2, 0, 0, 0, 3, 0, 0, 2, 6, 0, 3, 0, 2, 2, 2, 3, 0, 4, 2, 4, 0, 2, 6, 6, 4, 6, 5, 3, 6, 5, 0, 0, 0, 0, 0, 0, 0, 0, 0, 0, 5, 0, 0, 6, 4, 3, 0, 2, 2, 5, 2, 3, 4, 6, 2, 0, 3, 3], 'protein': [10, 6, 5, 7, 0, 6, 7, 6, 5, 7, 4, 6, 5, 5, 12, 7, 8, 6, 0, 10, 3, 5, 7, 8, 6, 0, 6, 15, 4, 5, 0, 9, 6, 6, 8, 4, 5, 4, 7, 6, 7, 18, 16, 17, 26, 13, 25, 15, 23, 2, 0, 2, 2, 0, 2, 2, 0, 0, 17, 14, 20, 19, 19, 5, 18, 17, 0, 26, 22, 28, 15, 13, 32, 34, 8, 10, 7], 'type': ['bakery', 'bakery', 'bakery', 'bakery', 'bakery', 'bakery', 'bakery', 'bakery', 'bakery', 'bakery', 'bakery', 'bakery', 'bakery', 'bakery', 'bakery', 'bakery', 'bakery', 'bakery', 'bakery', 'bakery', 'bakery', 'bakery', 'bakery', 'bakery', 'bakery', 'bakery', 'bakery', 'bakery', 'bakery', 'bakery', 'bakery', 'bakery', 'bakery', 'bakery', 'bakery', 'bakery', 'bakery', 'bakery', 'bakery', 'bakery', 'bakery', 'bistro box', 'bistro box', 'bistro box', 'bistro box', 'bistro box', 'bistro box', 'bistro box', 'bistro box', 'petite', 'petite', 'petite', 'petite', 'petite', 'petite', 'petite', 'petite', 'petite', 'hot breakfast', 'hot breakfast', 'hot breakfast', 'hot breakfast', 'hot breakfast', 'hot breakfast', 'hot breakfast', 'hot breakfast', 'salad', 'sandwich', 'sandwich', 'sandwich', 'sandwich', 'sandwich', 'sandwich', 'sandwich', 'parfait', 'parfait', 'parfait']}\n"
     ]
    }
   ],
   "source": [
    "#Lista 3:\n",
    "# importando como dicionario e atribuindo chaves e valores:\n",
    "import csv\n",
    "\n",
    "def ler_arquivo_csv(nome_arquivo):\n",
    "    dicionario = {}\n",
    "    \n",
    "    with open(nome_arquivo, 'r') as arquivo:\n",
    "        leitor_csv = csv.reader(arquivo)\n",
    "        \n",
    "        chaves = next(leitor_csv)\n",
    "        \n",
    "        for chave in chaves:\n",
    "            dicionario[chave] = []\n",
    "        \n",
    "        for linha in leitor_csv:\n",
    "            for i, valor in enumerate(linha):\n",
    "                chave = chaves[i]\n",
    "                # Verifica o tipo da chave e faz a conversão apropriada\n",
    "                if chave == '':\n",
    "                    valor = int(valor)\n",
    "                elif chave == 'item':\n",
    "                    valor = str(valor)\n",
    "                elif chave == 'calories':\n",
    "                    valor = int(valor)\n",
    "                elif chave == 'fat':\n",
    "                    valor = float(valor)\n",
    "                elif chave == 'carb':\n",
    "                    valor = int(valor)\n",
    "                elif chave == 'fiber' or chave == 'protein':\n",
    "                    valor = int(valor)\n",
    "                elif chave == 'type':\n",
    "                    valor = str(valor)\n",
    "                # Adiciona o valor convertido ao dicionário\n",
    "                dicionario[chave].append(valor)\n",
    "    \n",
    "    return dicionario\n",
    "\n",
    "nome_arquivo = 'starbucks.csv'\n",
    "dicionario_resultante = ler_arquivo_csv(nome_arquivo)\n",
    "print(dicionario_resultante)\n",
    "\n",
    "\n",
    "\n",
    "    \n"
   ]
  },
  {
   "cell_type": "code",
   "execution_count": 13,
   "metadata": {},
   "outputs": [
    {
     "name": "stdout",
     "output_type": "stream",
     "text": [
      "[1, 2, 3, 4, 5]\n",
      "['8-Grain Roll', 'Apple Bran Muffin', 'Apple Fritter', 'Banana Nut Loaf', 'Birthday Cake Mini Doughnut']\n",
      "[350, 350, 420, 490, 130]\n",
      "[8.0, 9.0, 20.0, 19.0, 6.0]\n",
      "[67, 64, 59, 75, 17]\n",
      "[5, 7, 0, 4, 0]\n",
      "[10, 6, 5, 7, 0]\n",
      "['bakery', 'bakery', 'bakery', 'bakery', 'bakery']\n",
      "None\n"
     ]
    }
   ],
   "source": [
    "#Imprimindo as primeiras 3 linhas do arquivo como dicionario:\n",
    "# Supondo que o dicionário seja chamado de dicionario_resultante\n",
    "primeiras_linhas = []\n",
    "\n",
    "# Percorre as chaves do dicionário\n",
    "for chave in dicionario_resultante:\n",
    "    # Obtém os valores da chave atual\n",
    "    valores = dicionario_resultante[chave]\n",
    "    # Adiciona os valores da primeira linha à lista primeiras_linhas\n",
    "    primeiras_linhas.append(valores[:5])\n",
    "\n",
    "# Exibe as cinco primeiras linhas\n",
    "for linha in primeiras_linhas:\n",
    "    print(linha)\n"
   ]
  },
  {
   "cell_type": "code",
   "execution_count": 15,
   "metadata": {},
   "outputs": [
    {
     "name": "stdout",
     "output_type": "stream",
     "text": [
      "A chave '' possui o tipo de dado: <class 'int'>\n",
      "A chave 'item' possui o tipo de dado: <class 'str'>\n",
      "A chave 'calories' possui o tipo de dado: <class 'int'>\n",
      "A chave 'fat' possui o tipo de dado: <class 'float'>\n",
      "A chave 'carb' possui o tipo de dado: <class 'int'>\n",
      "A chave 'fiber' possui o tipo de dado: <class 'int'>\n",
      "A chave 'protein' possui o tipo de dado: <class 'int'>\n",
      "A chave 'type' possui o tipo de dado: <class 'str'>\n"
     ]
    }
   ],
   "source": [
    "#Mostrando o tipo de dado de cada coluna\n",
    "dicionario_resultante\n",
    "for chave in dicionario_resultante:\n",
    "    valores = dicionario_resultante[chave]\n",
    "    tipo_dado = type(valores[0])  # Obtém o tipo de dado do primeiro valor da lista\n",
    "    print(f\"A chave '{chave}' possui o tipo de dado: {tipo_dado}\")\n"
   ]
  },
  {
   "cell_type": "code",
   "execution_count": 18,
   "metadata": {},
   "outputs": [
    {
     "name": "stdout",
     "output_type": "stream",
     "text": [
      "O valor máximo da chave '' é: 77\n",
      "O valor máximo da chave 'calories' é: 500\n",
      "O valor máximo da chave 'fat' é: 28.0\n",
      "O valor máximo da chave 'carb' é: 80\n",
      "O valor máximo da chave 'fiber' é: 7\n",
      "O valor máximo da chave 'protein' é: 34\n"
     ]
    }
   ],
   "source": [
    "#Mostrando os valores maximos:\n",
    "dicionario_resultante\n",
    "for chave in dicionario_resultante:\n",
    "    valores = dicionario_resultante[chave]\n",
    "    \n",
    "    if isinstance(valores[0], (int, float)):\n",
    "        valor_maximo = max(valores)\n",
    "        print(f\"O valor máximo da chave '{chave}' é: {valor_maximo}\")"
   ]
  },
  {
   "cell_type": "code",
   "execution_count": null,
   "metadata": {},
   "outputs": [],
   "source": []
  }
 ],
 "metadata": {
  "kernelspec": {
   "display_name": "Python 3",
   "language": "python",
   "name": "python3"
  },
  "language_info": {
   "codemirror_mode": {
    "name": "ipython",
    "version": 3
   },
   "file_extension": ".py",
   "mimetype": "text/x-python",
   "name": "python",
   "nbconvert_exporter": "python",
   "pygments_lexer": "ipython3",
   "version": "3.11.3"
  },
  "orig_nbformat": 4
 },
 "nbformat": 4,
 "nbformat_minor": 2
}
